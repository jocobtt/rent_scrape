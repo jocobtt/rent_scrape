{
 "cells": [
  {
   "cell_type": "code",
   "execution_count": 4,
   "metadata": {},
   "outputs": [],
   "source": [
    "import pandas as pd \n",
    "import numpy as np \n",
    "import seaborn as sns \n",
    "import os \n",
    "from bs4 import BeautifulSoup\n",
    "from re import search\n",
    "import glob "
   ]
  },
  {
   "cell_type": "markdown",
   "metadata": {},
   "source": [
    "# test our mechanize library"
   ]
  },
  {
   "cell_type": "code",
   "execution_count": 2,
   "metadata": {},
   "outputs": [],
   "source": [
    "import sys \n",
    "import os \n",
    "import re\n",
    "import mechanize \n",
    "from mechanize.polyglot import HTTPError "
   ]
  },
  {
   "cell_type": "code",
   "execution_count": 3,
   "metadata": {},
   "outputs": [],
   "source": [
    "mech = mechanize.Browser()\n",
    "try:\n",
    "    mech.open(\"https://www.navitime.co.jp/maps/routeSearch\")\n",
    "except HTTPError as e:\n",
    "    sys.exit(\"%d: %s\" % (e.code, e.msg))"
   ]
  },
  {
   "cell_type": "code",
   "execution_count": null,
   "metadata": {},
   "outputs": [],
   "source": [
    "mech.select_form()"
   ]
  },
  {
   "cell_type": "code",
   "execution_count": null,
   "metadata": {},
   "outputs": [],
   "source": []
  },
  {
   "cell_type": "code",
   "execution_count": 2,
   "metadata": {},
   "outputs": [],
   "source": [
    "os.chdir(\"/Users/jabras/rent_scrape/data/\")"
   ]
  },
  {
   "cell_type": "code",
   "execution_count": 3,
   "metadata": {},
   "outputs": [],
   "source": [
    "df = pd.read_csv('tokyo.csv')   # don't hard code this - make function to read in all csv files in directory\n",
    "\n",
    "def clean_data(folder=\".\", dataname=\"tokyo_main.csv\"):\n",
    "    files = [f for f in os.listdir(folder) if os.path.isfile(f)]\n",
    "    merged = []\n",
    "    \n",
    "    for f in files:\n",
    "        filename, ext = os.path.splitext(f)\n",
    "        if ext == '.csv':\n",
    "            read = pd.read_csv(f)\n",
    "            merged.appen(read)\n",
    "    result = pd.concat(merged, axis = 0)"
   ]
  },
  {
   "cell_type": "code",
   "execution_count": 7,
   "metadata": {},
   "outputs": [],
   "source": [
    "path = os.getcwd()\n",
    "all_files = os.listdir(path)\n",
    "li = []\n",
    "\n",
    "for filename in all_files:\n",
    "    df = pd.read_csv(filename, index_col=None, header=0)\n",
    "    li.append(df)\n",
    "frame = pd.concat(li, axis=0, ignore_index=True)"
   ]
  },
  {
   "cell_type": "code",
   "execution_count": 8,
   "metadata": {},
   "outputs": [
    {
     "data": {
      "text/plain": [
       "['store_push.sh',\n",
       " 'tokyo.csv',\n",
       " 'osaka_2.csv',\n",
       " 'osaka_3.csv',\n",
       " 'tokyo_3.csv',\n",
       " 'tokyo_2.csv',\n",
       " 'apartment.csv',\n",
       " 'osaka.csv',\n",
       " 'tokyo_4.csv']"
      ]
     },
     "execution_count": 8,
     "metadata": {},
     "output_type": "execute_result"
    }
   ],
   "source": [
    "all_files"
   ]
  },
  {
   "cell_type": "code",
   "execution_count": null,
   "metadata": {},
   "outputs": [],
   "source": [
    "clean_data()"
   ]
  },
  {
   "cell_type": "code",
   "execution_count": 5,
   "metadata": {},
   "outputs": [
    {
     "data": {
      "text/plain": [
       "['store_push.sh',\n",
       " 'tokyo.csv',\n",
       " 'osaka_4.csv',\n",
       " 'osaka_2.csv',\n",
       " 'osaka_3.csv',\n",
       " 'tokyo_3.csv',\n",
       " 'tokyo_2.csv',\n",
       " 'apartment.csv',\n",
       " 'osaka.csv',\n",
       " 'tokyo_4.csv']"
      ]
     },
     "execution_count": 5,
     "metadata": {},
     "output_type": "execute_result"
    }
   ],
   "source": [
    "os.listdir()"
   ]
  },
  {
   "cell_type": "code",
   "execution_count": 38,
   "metadata": {},
   "outputs": [],
   "source": [
    "df = pd.read_csv('tokyo.csv')"
   ]
  },
  {
   "cell_type": "code",
   "execution_count": 11,
   "metadata": {
    "scrolled": true
   },
   "outputs": [
    {
     "name": "stdout",
     "output_type": "stream",
     "text": [
      "<class 'pandas.core.frame.DataFrame'>\n",
      "RangeIndex: 450 entries, 0 to 449\n",
      "Data columns (total 15 columns):\n",
      " #   Column             Non-Null Count  Dtype  \n",
      "---  ------             --------------  -----  \n",
      " 0   rent_price         450 non-null    object \n",
      " 1   address            450 non-null    object \n",
      " 2   sqr_m              450 non-null    object \n",
      " 3   name_place         450 non-null    object \n",
      " 4   rei_price          450 non-null    object \n",
      " 5   shikikin           450 non-null    object \n",
      " 6   maintenence_price  450 non-null    object \n",
      " 7   nearest_eki        450 non-null    object \n",
      " 8   apartment_type     450 non-null    object \n",
      " 9   year_built         450 non-null    object \n",
      " 10  ku_name            450 non-null    object \n",
      " 11  floor              450 non-null    object \n",
      " 12  house_type         450 non-null    object \n",
      " 13  Lat                0 non-null      float64\n",
      " 14  Lon                0 non-null      float64\n",
      "dtypes: float64(2), object(13)\n",
      "memory usage: 52.9+ KB\n"
     ]
    }
   ],
   "source": [
    "df.info()"
   ]
  },
  {
   "cell_type": "code",
   "execution_count": 14,
   "metadata": {},
   "outputs": [],
   "source": [
    "df_2 = pd.read_csv('tokyo_2.csv')"
   ]
  },
  {
   "cell_type": "code",
   "execution_count": 15,
   "metadata": {},
   "outputs": [
    {
     "data": {
      "text/html": [
       "<div>\n",
       "<style scoped>\n",
       "    .dataframe tbody tr th:only-of-type {\n",
       "        vertical-align: middle;\n",
       "    }\n",
       "\n",
       "    .dataframe tbody tr th {\n",
       "        vertical-align: top;\n",
       "    }\n",
       "\n",
       "    .dataframe thead th {\n",
       "        text-align: right;\n",
       "    }\n",
       "</style>\n",
       "<table border=\"1\" class=\"dataframe\">\n",
       "  <thead>\n",
       "    <tr style=\"text-align: right;\">\n",
       "      <th></th>\n",
       "      <th>rent_price</th>\n",
       "      <th>address</th>\n",
       "      <th>sqr_m</th>\n",
       "      <th>name_place</th>\n",
       "      <th>rei_price</th>\n",
       "      <th>shikikin</th>\n",
       "      <th>maintenence_price</th>\n",
       "      <th>nearest_eki</th>\n",
       "      <th>apartment_type</th>\n",
       "      <th>year_built</th>\n",
       "      <th>ku_name</th>\n",
       "      <th>floor</th>\n",
       "      <th>house_type</th>\n",
       "      <th>Lat</th>\n",
       "      <th>Lon</th>\n",
       "    </tr>\n",
       "  </thead>\n",
       "  <tbody>\n",
       "    <tr>\n",
       "      <th>0</th>\n",
       "      <td>13.05万円</td>\n",
       "      <td>東京都新宿区山吹町</td>\n",
       "      <td>25.65m2</td>\n",
       "      <td>ハーモニーレジデンス神楽坂ヒルズファースト</td>\n",
       "      <td>-</td>\n",
       "      <td>-</td>\n",
       "      <td>12000円</td>\n",
       "      <td>東京メトロ東西線/神楽坂駅 歩8分</td>\n",
       "      <td>1DK</td>\n",
       "      <td>築2年</td>\n",
       "      <td>東京都新宿区山吹町</td>\n",
       "      <td>5階建\\n</td>\n",
       "      <td>賃貸マンション</td>\n",
       "      <td>NaN</td>\n",
       "      <td>NaN</td>\n",
       "    </tr>\n",
       "    <tr>\n",
       "      <th>1</th>\n",
       "      <td>8.2万円</td>\n",
       "      <td>東京都荒川区荒川３</td>\n",
       "      <td>30.71m2</td>\n",
       "      <td>ライトハウス</td>\n",
       "      <td>-</td>\n",
       "      <td>-</td>\n",
       "      <td>8000円</td>\n",
       "      <td>東京メトロ千代田線/町屋駅 歩12分</td>\n",
       "      <td>1DK</td>\n",
       "      <td>築23年</td>\n",
       "      <td>東京都荒川区荒川３</td>\n",
       "      <td>\\n6階建\\n</td>\n",
       "      <td>賃貸マンション</td>\n",
       "      <td>NaN</td>\n",
       "      <td>NaN</td>\n",
       "    </tr>\n",
       "    <tr>\n",
       "      <th>2</th>\n",
       "      <td>17.15万円</td>\n",
       "      <td>東京都渋谷区東３</td>\n",
       "      <td>35.15m2</td>\n",
       "      <td>Starfield　スターフィールド</td>\n",
       "      <td>17.15万円</td>\n",
       "      <td>-</td>\n",
       "      <td>4000円</td>\n",
       "      <td>東京メトロ日比谷線/恵比寿駅 歩6分</td>\n",
       "      <td>1DK</td>\n",
       "      <td>築2年</td>\n",
       "      <td>東京都渋谷区東３</td>\n",
       "      <td>4階建\\n</td>\n",
       "      <td>賃貸マンション</td>\n",
       "      <td>NaN</td>\n",
       "      <td>NaN</td>\n",
       "    </tr>\n",
       "    <tr>\n",
       "      <th>3</th>\n",
       "      <td>15.9万円</td>\n",
       "      <td>東京都文京区白山２</td>\n",
       "      <td>41.19m2</td>\n",
       "      <td>都営三田線 白山駅 11階建 築10年</td>\n",
       "      <td>23.85万円</td>\n",
       "      <td>15.9万円</td>\n",
       "      <td>16000円</td>\n",
       "      <td>都営三田線/白山駅 歩5分</td>\n",
       "      <td>1LDK</td>\n",
       "      <td>築10年</td>\n",
       "      <td>東京都文京区白山２</td>\n",
       "      <td>\\n11階建\\n</td>\n",
       "      <td>賃貸マンション</td>\n",
       "      <td>NaN</td>\n",
       "      <td>NaN</td>\n",
       "    </tr>\n",
       "    <tr>\n",
       "      <th>4</th>\n",
       "      <td>10.55万円</td>\n",
       "      <td>東京都文京区関口３</td>\n",
       "      <td>26.04m2</td>\n",
       "      <td>コンシェリア目白台　ＨＩＬＬＳＩＤＥ　ＳＱＵＡＲＥ</td>\n",
       "      <td>-</td>\n",
       "      <td>-</td>\n",
       "      <td>8500円</td>\n",
       "      <td>東京メトロ有楽町線/江戸川橋駅 歩7分</td>\n",
       "      <td>1K</td>\n",
       "      <td>築3年</td>\n",
       "      <td>東京都文京区関口３</td>\n",
       "      <td>9階建\\n</td>\n",
       "      <td>賃貸マンション</td>\n",
       "      <td>NaN</td>\n",
       "      <td>NaN</td>\n",
       "    </tr>\n",
       "  </tbody>\n",
       "</table>\n",
       "</div>"
      ],
      "text/plain": [
       "  rent_price    address    sqr_m                 name_place rei_price  \\\n",
       "0    13.05万円  東京都新宿区山吹町  25.65m2      ハーモニーレジデンス神楽坂ヒルズファースト         -   \n",
       "1      8.2万円  東京都荒川区荒川３  30.71m2                     ライトハウス         -   \n",
       "2    17.15万円   東京都渋谷区東３  35.15m2         Starfield　スターフィールド   17.15万円   \n",
       "3     15.9万円  東京都文京区白山２  41.19m2        都営三田線 白山駅 11階建 築10年   23.85万円   \n",
       "4    10.55万円  東京都文京区関口３  26.04m2  コンシェリア目白台　ＨＩＬＬＳＩＤＥ　ＳＱＵＡＲＥ         -   \n",
       "\n",
       "  shikikin maintenence_price          nearest_eki apartment_type year_built  \\\n",
       "0        -            12000円    東京メトロ東西線/神楽坂駅 歩8分            1DK        築2年   \n",
       "1        -             8000円   東京メトロ千代田線/町屋駅 歩12分            1DK       築23年   \n",
       "2        -             4000円   東京メトロ日比谷線/恵比寿駅 歩6分            1DK        築2年   \n",
       "3   15.9万円            16000円        都営三田線/白山駅 歩5分           1LDK       築10年   \n",
       "4        -             8500円  東京メトロ有楽町線/江戸川橋駅 歩7分             1K        築3年   \n",
       "\n",
       "     ku_name     floor house_type  Lat  Lon  \n",
       "0  東京都新宿区山吹町     5階建\\n    賃貸マンション  NaN  NaN  \n",
       "1  東京都荒川区荒川３   \\n6階建\\n    賃貸マンション  NaN  NaN  \n",
       "2   東京都渋谷区東３     4階建\\n    賃貸マンション  NaN  NaN  \n",
       "3  東京都文京区白山２  \\n11階建\\n    賃貸マンション  NaN  NaN  \n",
       "4  東京都文京区関口３     9階建\\n    賃貸マンション  NaN  NaN  "
      ]
     },
     "execution_count": 15,
     "metadata": {},
     "output_type": "execute_result"
    }
   ],
   "source": [
    "df_2.head()"
   ]
  },
  {
   "cell_type": "code",
   "execution_count": 19,
   "metadata": {},
   "outputs": [],
   "source": [
    "# combine my two datasets\n",
    "test = pd.concat([df, df_2], axis = 0)"
   ]
  },
  {
   "cell_type": "code",
   "execution_count": 23,
   "metadata": {},
   "outputs": [],
   "source": [
    "# test out lon and lat stuff - may just have to scrape this part from navi also \n",
    "import googlemaps\n"
   ]
  },
  {
   "cell_type": "code",
   "execution_count": 24,
   "metadata": {},
   "outputs": [],
   "source": [
    "for i in range(len(df)):\n",
    "    geocode_ = gmaps.geocode(df.loc[i, 'address'])\n",
    "    try:\n",
    "        lat = geocode_[0]['geometry']['location']['lat']\n",
    "        lng = geocode_[0]['geometry']['location']['lng']\n",
    "        df_.loc[1,'Lat'] = lat\n",
    "        df_.loc[1,'Lon'] = lng \n",
    "    except:\n",
    "        lat = None\n",
    "        lng = None"
   ]
  },
  {
   "cell_type": "code",
   "execution_count": 26,
   "metadata": {},
   "outputs": [
    {
     "data": {
      "text/plain": [
       "0     NaN\n",
       "1     NaN\n",
       "2     NaN\n",
       "3     NaN\n",
       "4     NaN\n",
       "       ..\n",
       "445   NaN\n",
       "446   NaN\n",
       "447   NaN\n",
       "448   NaN\n",
       "449   NaN\n",
       "Name: Lat, Length: 450, dtype: float64"
      ]
     },
     "execution_count": 26,
     "metadata": {},
     "output_type": "execute_result"
    }
   ],
   "source": [
    "df.Lat"
   ]
  },
  {
   "cell_type": "code",
   "execution_count": 5,
   "metadata": {},
   "outputs": [
    {
     "name": "stdout",
     "output_type": "stream",
     "text": [
      "<class 'pandas.core.frame.DataFrame'>\n",
      "RangeIndex: 450 entries, 0 to 449\n",
      "Data columns (total 15 columns):\n",
      " #   Column             Non-Null Count  Dtype  \n",
      "---  ------             --------------  -----  \n",
      " 0   rent_price         450 non-null    object \n",
      " 1   address            450 non-null    object \n",
      " 2   sqr_m              450 non-null    object \n",
      " 3   name_place         450 non-null    object \n",
      " 4   rei_price          450 non-null    object \n",
      " 5   shikikin           450 non-null    object \n",
      " 6   maintenence_price  450 non-null    object \n",
      " 7   nearest_eki        450 non-null    object \n",
      " 8   apartment_type     450 non-null    object \n",
      " 9   year_built         450 non-null    object \n",
      " 10  ku_name            450 non-null    object \n",
      " 11  floor              450 non-null    object \n",
      " 12  house_type         450 non-null    object \n",
      " 13  Lat                0 non-null      float64\n",
      " 14  Lon                0 non-null      float64\n",
      "dtypes: float64(2), object(13)\n",
      "memory usage: 52.9+ KB\n"
     ]
    }
   ],
   "source": [
    "df.info()"
   ]
  },
  {
   "cell_type": "code",
   "execution_count": null,
   "metadata": {},
   "outputs": [],
   "source": []
  },
  {
   "cell_type": "code",
   "execution_count": 8,
   "metadata": {},
   "outputs": [
    {
     "ename": "AttributeError",
     "evalue": "Can only use .str accessor with string values!",
     "output_type": "error",
     "traceback": [
      "\u001b[0;31m---------------------------------------------------------------------------\u001b[0m",
      "\u001b[0;31mAttributeError\u001b[0m                            Traceback (most recent call last)",
      "\u001b[0;32m<ipython-input-8-35a8cf896a87>\u001b[0m in \u001b[0;36m<module>\u001b[0;34m\u001b[0m\n\u001b[1;32m      1\u001b[0m \u001b[0;31m# fix ku name\u001b[0m\u001b[0;34m\u001b[0m\u001b[0;34m\u001b[0m\u001b[0;34m\u001b[0m\u001b[0m\n\u001b[1;32m      2\u001b[0m \u001b[0mdf\u001b[0m\u001b[0;34m.\u001b[0m\u001b[0mku_name\u001b[0m \u001b[0;34m=\u001b[0m \u001b[0mdf\u001b[0m\u001b[0;34m.\u001b[0m\u001b[0mku_name\u001b[0m\u001b[0;34m.\u001b[0m\u001b[0mstr\u001b[0m\u001b[0;34m.\u001b[0m\u001b[0msplit\u001b[0m\u001b[0;34m(\u001b[0m\u001b[0;34m'大阪府'\u001b[0m\u001b[0;34m)\u001b[0m\u001b[0;34m.\u001b[0m\u001b[0mstr\u001b[0m\u001b[0;34m[\u001b[0m\u001b[0;36m1\u001b[0m\u001b[0;34m]\u001b[0m\u001b[0;34m\u001b[0m\u001b[0;34m\u001b[0m\u001b[0m\n\u001b[0;32m----> 3\u001b[0;31m \u001b[0mdf\u001b[0m\u001b[0;34m.\u001b[0m\u001b[0mku_name\u001b[0m \u001b[0;34m=\u001b[0m \u001b[0mdf\u001b[0m\u001b[0;34m.\u001b[0m\u001b[0mku_name\u001b[0m\u001b[0;34m.\u001b[0m\u001b[0mstr\u001b[0m\u001b[0;34m.\u001b[0m\u001b[0msplit\u001b[0m\u001b[0;34m(\u001b[0m\u001b[0;34m'区'\u001b[0m\u001b[0;34m)\u001b[0m\u001b[0;34m.\u001b[0m\u001b[0mstr\u001b[0m\u001b[0;34m[\u001b[0m\u001b[0;36m0\u001b[0m\u001b[0;34m]\u001b[0m\u001b[0;34m\u001b[0m\u001b[0;34m\u001b[0m\u001b[0m\n\u001b[0m",
      "\u001b[0;32m/usr/local/lib/python3.9/site-packages/pandas/core/generic.py\u001b[0m in \u001b[0;36m__getattr__\u001b[0;34m(self, name)\u001b[0m\n\u001b[1;32m   5133\u001b[0m             \u001b[0;32mor\u001b[0m \u001b[0mname\u001b[0m \u001b[0;32min\u001b[0m \u001b[0mself\u001b[0m\u001b[0;34m.\u001b[0m\u001b[0m_accessors\u001b[0m\u001b[0;34m\u001b[0m\u001b[0;34m\u001b[0m\u001b[0m\n\u001b[1;32m   5134\u001b[0m         ):\n\u001b[0;32m-> 5135\u001b[0;31m             \u001b[0;32mreturn\u001b[0m \u001b[0mobject\u001b[0m\u001b[0;34m.\u001b[0m\u001b[0m__getattribute__\u001b[0m\u001b[0;34m(\u001b[0m\u001b[0mself\u001b[0m\u001b[0;34m,\u001b[0m \u001b[0mname\u001b[0m\u001b[0;34m)\u001b[0m\u001b[0;34m\u001b[0m\u001b[0;34m\u001b[0m\u001b[0m\n\u001b[0m\u001b[1;32m   5136\u001b[0m         \u001b[0;32melse\u001b[0m\u001b[0;34m:\u001b[0m\u001b[0;34m\u001b[0m\u001b[0;34m\u001b[0m\u001b[0m\n\u001b[1;32m   5137\u001b[0m             \u001b[0;32mif\u001b[0m \u001b[0mself\u001b[0m\u001b[0;34m.\u001b[0m\u001b[0m_info_axis\u001b[0m\u001b[0;34m.\u001b[0m\u001b[0m_can_hold_identifiers_and_holds_name\u001b[0m\u001b[0;34m(\u001b[0m\u001b[0mname\u001b[0m\u001b[0;34m)\u001b[0m\u001b[0;34m:\u001b[0m\u001b[0;34m\u001b[0m\u001b[0;34m\u001b[0m\u001b[0m\n",
      "\u001b[0;32m/usr/local/lib/python3.9/site-packages/pandas/core/accessor.py\u001b[0m in \u001b[0;36m__get__\u001b[0;34m(self, obj, cls)\u001b[0m\n\u001b[1;32m    185\u001b[0m             \u001b[0;31m# we're accessing the attribute of the class, i.e., Dataset.geo\u001b[0m\u001b[0;34m\u001b[0m\u001b[0;34m\u001b[0m\u001b[0;34m\u001b[0m\u001b[0m\n\u001b[1;32m    186\u001b[0m             \u001b[0;32mreturn\u001b[0m \u001b[0mself\u001b[0m\u001b[0;34m.\u001b[0m\u001b[0m_accessor\u001b[0m\u001b[0;34m\u001b[0m\u001b[0;34m\u001b[0m\u001b[0m\n\u001b[0;32m--> 187\u001b[0;31m         \u001b[0maccessor_obj\u001b[0m \u001b[0;34m=\u001b[0m \u001b[0mself\u001b[0m\u001b[0;34m.\u001b[0m\u001b[0m_accessor\u001b[0m\u001b[0;34m(\u001b[0m\u001b[0mobj\u001b[0m\u001b[0;34m)\u001b[0m\u001b[0;34m\u001b[0m\u001b[0;34m\u001b[0m\u001b[0m\n\u001b[0m\u001b[1;32m    188\u001b[0m         \u001b[0;31m# Replace the property with the accessor object. Inspired by:\u001b[0m\u001b[0;34m\u001b[0m\u001b[0;34m\u001b[0m\u001b[0;34m\u001b[0m\u001b[0m\n\u001b[1;32m    189\u001b[0m         \u001b[0;31m# https://www.pydanny.com/cached-property.html\u001b[0m\u001b[0;34m\u001b[0m\u001b[0;34m\u001b[0m\u001b[0;34m\u001b[0m\u001b[0m\n",
      "\u001b[0;32m/usr/local/lib/python3.9/site-packages/pandas/core/strings.py\u001b[0m in \u001b[0;36m__init__\u001b[0;34m(self, data)\u001b[0m\n\u001b[1;32m   2098\u001b[0m \u001b[0;34m\u001b[0m\u001b[0m\n\u001b[1;32m   2099\u001b[0m     \u001b[0;32mdef\u001b[0m \u001b[0m__init__\u001b[0m\u001b[0;34m(\u001b[0m\u001b[0mself\u001b[0m\u001b[0;34m,\u001b[0m \u001b[0mdata\u001b[0m\u001b[0;34m)\u001b[0m\u001b[0;34m:\u001b[0m\u001b[0;34m\u001b[0m\u001b[0;34m\u001b[0m\u001b[0m\n\u001b[0;32m-> 2100\u001b[0;31m         \u001b[0mself\u001b[0m\u001b[0;34m.\u001b[0m\u001b[0m_inferred_dtype\u001b[0m \u001b[0;34m=\u001b[0m \u001b[0mself\u001b[0m\u001b[0;34m.\u001b[0m\u001b[0m_validate\u001b[0m\u001b[0;34m(\u001b[0m\u001b[0mdata\u001b[0m\u001b[0;34m)\u001b[0m\u001b[0;34m\u001b[0m\u001b[0;34m\u001b[0m\u001b[0m\n\u001b[0m\u001b[1;32m   2101\u001b[0m         \u001b[0mself\u001b[0m\u001b[0;34m.\u001b[0m\u001b[0m_is_categorical\u001b[0m \u001b[0;34m=\u001b[0m \u001b[0mis_categorical_dtype\u001b[0m\u001b[0;34m(\u001b[0m\u001b[0mdata\u001b[0m\u001b[0;34m.\u001b[0m\u001b[0mdtype\u001b[0m\u001b[0;34m)\u001b[0m\u001b[0;34m\u001b[0m\u001b[0;34m\u001b[0m\u001b[0m\n\u001b[1;32m   2102\u001b[0m         \u001b[0mself\u001b[0m\u001b[0;34m.\u001b[0m\u001b[0m_is_string\u001b[0m \u001b[0;34m=\u001b[0m \u001b[0mdata\u001b[0m\u001b[0;34m.\u001b[0m\u001b[0mdtype\u001b[0m\u001b[0;34m.\u001b[0m\u001b[0mname\u001b[0m \u001b[0;34m==\u001b[0m \u001b[0;34m\"string\"\u001b[0m\u001b[0;34m\u001b[0m\u001b[0;34m\u001b[0m\u001b[0m\n",
      "\u001b[0;32m/usr/local/lib/python3.9/site-packages/pandas/core/strings.py\u001b[0m in \u001b[0;36m_validate\u001b[0;34m(data)\u001b[0m\n\u001b[1;32m   2155\u001b[0m \u001b[0;34m\u001b[0m\u001b[0m\n\u001b[1;32m   2156\u001b[0m         \u001b[0;32mif\u001b[0m \u001b[0minferred_dtype\u001b[0m \u001b[0;32mnot\u001b[0m \u001b[0;32min\u001b[0m \u001b[0mallowed_types\u001b[0m\u001b[0;34m:\u001b[0m\u001b[0;34m\u001b[0m\u001b[0;34m\u001b[0m\u001b[0m\n\u001b[0;32m-> 2157\u001b[0;31m             \u001b[0;32mraise\u001b[0m \u001b[0mAttributeError\u001b[0m\u001b[0;34m(\u001b[0m\u001b[0;34m\"Can only use .str accessor with string values!\"\u001b[0m\u001b[0;34m)\u001b[0m\u001b[0;34m\u001b[0m\u001b[0;34m\u001b[0m\u001b[0m\n\u001b[0m\u001b[1;32m   2158\u001b[0m         \u001b[0;32mreturn\u001b[0m \u001b[0minferred_dtype\u001b[0m\u001b[0;34m\u001b[0m\u001b[0;34m\u001b[0m\u001b[0m\n\u001b[1;32m   2159\u001b[0m \u001b[0;34m\u001b[0m\u001b[0m\n",
      "\u001b[0;31mAttributeError\u001b[0m: Can only use .str accessor with string values!"
     ]
    }
   ],
   "source": [
    "# fix ku name \n",
    "df.ku_name = df.ku_name.str.split('大阪府').str[1]\n",
    "df.ku_name = df.ku_name.str.split('区').str[0]\n"
   ]
  },
  {
   "cell_type": "code",
   "execution_count": 18,
   "metadata": {},
   "outputs": [
    {
     "data": {
      "text/plain": [
       "array(['中野', '目黒', '文京', '新宿', '荒川', '墨田', '中央', '台東', '江東', '品川', '杉並',\n",
       "       '港', '大田'], dtype=object)"
      ]
     },
     "execution_count": 18,
     "metadata": {},
     "output_type": "execute_result"
    }
   ],
   "source": [
    "df.ku_name.unique()"
   ]
  },
  {
   "cell_type": "code",
   "execution_count": 10,
   "metadata": {},
   "outputs": [
    {
     "data": {
      "text/plain": [
       "0       5分\n",
       "1       8分\n",
       "2      12分\n",
       "3       6分\n",
       "4       8分\n",
       "      ... \n",
       "445     6分\n",
       "446     2分\n",
       "447     5分\n",
       "448     5分\n",
       "449     6分\n",
       "Name: nearest_eki, Length: 450, dtype: object"
      ]
     },
     "execution_count": 10,
     "metadata": {},
     "output_type": "execute_result"
    }
   ],
   "source": [
    "# eki in minutes \n",
    "df.nearest_eki.str.split('歩').str[1]"
   ]
  },
  {
   "cell_type": "code",
   "execution_count": 4,
   "metadata": {},
   "outputs": [
    {
     "data": {
      "text/plain": [
       "50"
      ]
     },
     "execution_count": 4,
     "metadata": {},
     "output_type": "execute_result"
    }
   ],
   "source": [
    "len(df)"
   ]
  },
  {
   "cell_type": "code",
   "execution_count": 5,
   "metadata": {},
   "outputs": [
    {
     "data": {
      "text/plain": [
       "2500"
      ]
     },
     "execution_count": 5,
     "metadata": {},
     "output_type": "execute_result"
    }
   ],
   "source": [
    "50*50"
   ]
  },
  {
   "cell_type": "code",
   "execution_count": null,
   "metadata": {},
   "outputs": [],
   "source": [
    "#https://stackabuse.com/python-check-if-string-contains-substring/"
   ]
  },
  {
   "cell_type": "code",
   "execution_count": 34,
   "metadata": {},
   "outputs": [],
   "source": [
    "# clean money parts - I need to just put it as whole yen value \n",
    "# if there is a . with a number after it in the string then only add 000, otherwise add 0000\n",
    "if \".\" in df.rent_price:\n",
    "    df.rent_price = df.rent_price.str.replace('万円', '000')\n",
    "elif \".##\" in df.rent_price:\n",
    "    df.rent_price = df.rent_price.str.replace('万円', '00')\n",
    "    \n",
    "else:\n",
    "    df.rent_price = df.rent_price.str.replace('万円', '000')\n",
    "df.rent_price = df.rent_price.str.replace('.', '')"
   ]
  },
  {
   "cell_type": "code",
   "execution_count": 36,
   "metadata": {},
   "outputs": [],
   "source": [
    "df.rent_price = df.rent_price.str.replace('.', '')"
   ]
  },
  {
   "cell_type": "code",
   "execution_count": 39,
   "metadata": {},
   "outputs": [
    {
     "data": {
      "text/plain": [
       "0         13万円\n",
       "1         17万円\n",
       "2         11万円\n",
       "3        8.7万円\n",
       "4        7.9万円\n",
       "        ...   \n",
       "445    12.55万円\n",
       "446     11.5万円\n",
       "447     10.4万円\n",
       "448     10.5万円\n",
       "449      8.7万円\n",
       "Name: rent_price, Length: 450, dtype: object"
      ]
     },
     "execution_count": 39,
     "metadata": {},
     "output_type": "execute_result"
    }
   ],
   "source": [
    "df.rent_price"
   ]
  },
  {
   "cell_type": "code",
   "execution_count": null,
   "metadata": {},
   "outputs": [],
   "source": [
    "# need to clean first row, nearest_eki, year_built, and ku-name. \n"
   ]
  },
  {
   "cell_type": "code",
   "execution_count": 13,
   "metadata": {},
   "outputs": [
    {
     "data": {
      "text/plain": [
       "50"
      ]
     },
     "execution_count": 13,
     "metadata": {},
     "output_type": "execute_result"
    }
   ],
   "source": [
    "len(df.ku_name)\n"
   ]
  },
  {
   "cell_type": "code",
   "execution_count": 52,
   "metadata": {},
   "outputs": [
    {
     "data": {
      "text/plain": [
       "0           10階建\n",
       "1            2階建\n",
       "2            8階建\n",
       "3            9階建\n",
       "4            3階建\n",
       "         ...    \n",
       "445         15階建\n",
       "446    地下4地上35階建\n",
       "447          4階建\n",
       "448          6階建\n",
       "449         14階建\n",
       "Name: year_built, Length: 450, dtype: object"
      ]
     },
     "execution_count": 52,
     "metadata": {},
     "output_type": "execute_result"
    }
   ],
   "source": [
    "# fix year_built \n",
    "df.year_built.str.replace('\\n', '')"
   ]
  },
  {
   "cell_type": "code",
   "execution_count": null,
   "metadata": {},
   "outputs": [],
   "source": []
  },
  {
   "cell_type": "code",
   "execution_count": 61,
   "metadata": {},
   "outputs": [
    {
     "data": {
      "text/plain": [
       "array(['\\n10階建\\n', '\\n2階建\\n', '8階建\\n', '9階建\\n', '\\n3階建\\n', '\\n9階建\\n',\n",
       "       '\\n5階建\\n', '\\n6階建\\n', '階建\\n', '14階建\\n', '3階建\\n', '17階建\\n', '4階建\\n',\n",
       "       '\\n4階建\\n', '下1地上3階建\\n', '\\n地下1地上12階建\\n', '\\n14階建\\n', '\\n7階建\\n',\n",
       "       '\\n地下1地上17階建\\n', '0階建\\n', '11階建\\n', '13階建\\n', '\\n8階建\\n',\n",
       "       '\\n11階建\\n', '2階建\\n', '地下1地上14階建\\n', '15階建\\n', '\\n地下4地上35階建\\n',\n",
       "       '\\n地下1地上7階建\\n', '下1地上14階建\\n'], dtype=object)"
      ]
     },
     "execution_count": 61,
     "metadata": {},
     "output_type": "execute_result"
    }
   ],
   "source": [
    "df.year_built.unique()"
   ]
  },
  {
   "cell_type": "code",
   "execution_count": 35,
   "metadata": {},
   "outputs": [],
   "source": [
    "df.ku_name = df.ku_name.str.split('(').str[0]\n",
    "df.ku_name = df.ku_name.str[1:]"
   ]
  },
  {
   "cell_type": "code",
   "execution_count": 36,
   "metadata": {
    "scrolled": true
   },
   "outputs": [
    {
     "data": {
      "text/plain": [
       "0     千代田区\n",
       "1     千代田区\n",
       "2     千代田区\n",
       "3     千代田区\n",
       "4     千代田区\n",
       "Name: ku_name, dtype: object"
      ]
     },
     "execution_count": 36,
     "metadata": {},
     "output_type": "execute_result"
    }
   ],
   "source": [
    "df.ku_name.head()"
   ]
  },
  {
   "cell_type": "code",
   "execution_count": 26,
   "metadata": {},
   "outputs": [
    {
     "data": {
      "text/plain": [
       "array(['\\xa0千代田区'], dtype=object)"
      ]
     },
     "execution_count": 26,
     "metadata": {},
     "output_type": "execute_result"
    }
   ],
   "source": [
    "df.ku_name.unique()"
   ]
  },
  {
   "cell_type": "code",
   "execution_count": 37,
   "metadata": {},
   "outputs": [],
   "source": [
    "df.nearest_eki = df.nearest_eki.str.split('\">').str[1]\n",
    "df.nearest_eki = df.nearest_eki.str.split('</').str[0]"
   ]
  },
  {
   "cell_type": "code",
   "execution_count": 56,
   "metadata": {},
   "outputs": [],
   "source": [
    "# drop m2\n",
    "#df.sqr_m = df.sqr_m.str.split('m2').str[0]\n",
    "df.sqr_m = df.sqr_m.astype(float)"
   ]
  },
  {
   "cell_type": "code",
   "execution_count": 50,
   "metadata": {},
   "outputs": [
    {
     "data": {
      "text/plain": [
       "0        9.3\n",
       "1         17\n",
       "2        8.6\n",
       "3        8.5\n",
       "4        7.8\n",
       "       ...  \n",
       "445      8.9\n",
       "446     14.7\n",
       "447     13.3\n",
       "448       13\n",
       "449    10.79\n",
       "Name: rent_price, Length: 450, dtype: object"
      ]
     },
     "execution_count": 50,
     "metadata": {},
     "output_type": "execute_result"
    }
   ],
   "source": [
    "# drop yen symbol and add proper digits to rent price etc. \n",
    "#get rid of decimal \n",
    "#df.rent_price.str.\n",
    "df.rent_price.str.replace('万円', '')"
   ]
  },
  {
   "cell_type": "code",
   "execution_count": null,
   "metadata": {},
   "outputs": [],
   "source": [
    "# convert rent_price to proper decimal sign \n",
    "# man = 10,000. 9.3== 93,000. "
   ]
  },
  {
   "cell_type": "code",
   "execution_count": 27,
   "metadata": {},
   "outputs": [
    {
     "data": {
      "text/html": [
       "<div>\n",
       "<style scoped>\n",
       "    .dataframe tbody tr th:only-of-type {\n",
       "        vertical-align: middle;\n",
       "    }\n",
       "\n",
       "    .dataframe tbody tr th {\n",
       "        vertical-align: top;\n",
       "    }\n",
       "\n",
       "    .dataframe thead th {\n",
       "        text-align: right;\n",
       "    }\n",
       "</style>\n",
       "<table border=\"1\" class=\"dataframe\">\n",
       "  <thead>\n",
       "    <tr style=\"text-align: right;\">\n",
       "      <th></th>\n",
       "      <th>rent_price</th>\n",
       "      <th>address</th>\n",
       "      <th>sqr_m</th>\n",
       "      <th>name_place</th>\n",
       "      <th>rei_price</th>\n",
       "      <th>maintenence_price</th>\n",
       "      <th>nearest_eki</th>\n",
       "      <th>apartment_type</th>\n",
       "      <th>year_built</th>\n",
       "      <th>ku_name</th>\n",
       "      <th>floor</th>\n",
       "      <th>house_type</th>\n",
       "    </tr>\n",
       "  </thead>\n",
       "  <tbody>\n",
       "    <tr>\n",
       "      <th>0</th>\n",
       "      <td>9.3万円</td>\n",
       "      <td>東京都荒川区町屋３</td>\n",
       "      <td>30.89m2</td>\n",
       "      <td>東京都荒川区町屋３</td>\n",
       "      <td>4.65万円</td>\n",
       "      <td>6000円</td>\n",
       "      <td>東京メトロ千代田線/町屋駅 歩6分</td>\n",
       "      <td>2K</td>\n",
       "      <td>\\n10階建\\n</td>\n",
       "      <td>千代田区</td>\n",
       "      <td>築20年</td>\n",
       "      <td>賃貸マンション</td>\n",
       "    </tr>\n",
       "    <tr>\n",
       "      <th>1</th>\n",
       "      <td>17万円</td>\n",
       "      <td>東京都中野区新井１</td>\n",
       "      <td>46.7m2</td>\n",
       "      <td>東京都中野区新井１</td>\n",
       "      <td>17万円</td>\n",
       "      <td>3000円</td>\n",
       "      <td>ＪＲ中央線/中野駅 歩7分</td>\n",
       "      <td>2K</td>\n",
       "      <td>\\n2階建\\n</td>\n",
       "      <td>千代田区</td>\n",
       "      <td>築13年</td>\n",
       "      <td>賃貸アパート</td>\n",
       "    </tr>\n",
       "    <tr>\n",
       "      <th>2</th>\n",
       "      <td>8.6万円</td>\n",
       "      <td>東京都江東区大島８</td>\n",
       "      <td>25.51m2</td>\n",
       "      <td>東京都江東区大島８</td>\n",
       "      <td>12.9万円</td>\n",
       "      <td>9000円</td>\n",
       "      <td>都営新宿線/大島駅 歩5分</td>\n",
       "      <td>2K</td>\n",
       "      <td>8階建\\n</td>\n",
       "      <td>千代田区</td>\n",
       "      <td>築3年</td>\n",
       "      <td>賃貸マンション</td>\n",
       "    </tr>\n",
       "    <tr>\n",
       "      <th>3</th>\n",
       "      <td>8.5万円</td>\n",
       "      <td>東京都荒川区東日暮里６</td>\n",
       "      <td>25.46m2</td>\n",
       "      <td>東京都荒川区東日暮里６</td>\n",
       "      <td>8.5万円</td>\n",
       "      <td>7000円</td>\n",
       "      <td>ＪＲ山手線/日暮里駅 歩5分</td>\n",
       "      <td>1DK</td>\n",
       "      <td>9階建\\n</td>\n",
       "      <td>千代田区</td>\n",
       "      <td>築7年</td>\n",
       "      <td>賃貸マンション</td>\n",
       "    </tr>\n",
       "    <tr>\n",
       "      <th>4</th>\n",
       "      <td>7.8万円</td>\n",
       "      <td>東京都荒川区東尾久５</td>\n",
       "      <td>26.73m2</td>\n",
       "      <td>東京都荒川区東尾久５</td>\n",
       "      <td>-</td>\n",
       "      <td>-</td>\n",
       "      <td>ＪＲ山手線/田端駅 歩14分</td>\n",
       "      <td>2K</td>\n",
       "      <td>\\n3階建\\n</td>\n",
       "      <td>千代田区</td>\n",
       "      <td>築43年</td>\n",
       "      <td>賃貸マンション</td>\n",
       "    </tr>\n",
       "  </tbody>\n",
       "</table>\n",
       "</div>"
      ],
      "text/plain": [
       "  rent_price      address    sqr_m   name_place rei_price maintenence_price  \\\n",
       "0      9.3万円    東京都荒川区町屋３  30.89m2    東京都荒川区町屋３    4.65万円             6000円   \n",
       "1       17万円    東京都中野区新井１   46.7m2    東京都中野区新井１      17万円             3000円   \n",
       "2      8.6万円    東京都江東区大島８  25.51m2    東京都江東区大島８    12.9万円             9000円   \n",
       "3      8.5万円  東京都荒川区東日暮里６  25.46m2  東京都荒川区東日暮里６     8.5万円             7000円   \n",
       "4      7.8万円   東京都荒川区東尾久５  26.73m2   東京都荒川区東尾久５         -                 -   \n",
       "\n",
       "         nearest_eki apartment_type year_built ku_name floor house_type  \n",
       "0  東京メトロ千代田線/町屋駅 歩6分             2K   \\n10階建\\n    千代田区  築20年    賃貸マンション  \n",
       "1      ＪＲ中央線/中野駅 歩7分             2K    \\n2階建\\n    千代田区  築13年     賃貸アパート  \n",
       "2      都営新宿線/大島駅 歩5分             2K      8階建\\n    千代田区   築3年    賃貸マンション  \n",
       "3     ＪＲ山手線/日暮里駅 歩5分            1DK      9階建\\n    千代田区   築7年    賃貸マンション  \n",
       "4     ＪＲ山手線/田端駅 歩14分             2K    \\n3階建\\n    千代田区  築43年    賃貸マンション  "
      ]
     },
     "execution_count": 27,
     "metadata": {},
     "output_type": "execute_result"
    }
   ],
   "source": [
    "df.head()"
   ]
  },
  {
   "cell_type": "code",
   "execution_count": 57,
   "metadata": {},
   "outputs": [
    {
     "data": {
      "text/plain": [
       "array(['2K', '1DK', '1K', '1LDK', '2DK'], dtype=object)"
      ]
     },
     "execution_count": 57,
     "metadata": {},
     "output_type": "execute_result"
    }
   ],
   "source": []
  },
  {
   "cell_type": "code",
   "execution_count": 12,
   "metadata": {
    "scrolled": true
   },
   "outputs": [
    {
     "name": "stdout",
     "output_type": "stream",
     "text": [
      "<class 'pandas.core.frame.DataFrame'>\n",
      "RangeIndex: 50 entries, 0 to 49\n",
      "Data columns (total 13 columns):\n",
      " #   Column             Non-Null Count  Dtype  \n",
      "---  ------             --------------  -----  \n",
      " 0   rent_price         50 non-null     object \n",
      " 1   address            50 non-null     object \n",
      " 2   sqr_m              50 non-null     object \n",
      " 3   name_place         50 non-null     object \n",
      " 4   rei_price          50 non-null     object \n",
      " 5   shikikin           0 non-null      float64\n",
      " 6   maintenence_price  50 non-null     object \n",
      " 7   nearest_eki        50 non-null     object \n",
      " 8   apartment_type     50 non-null     object \n",
      " 9   year_built         50 non-null     object \n",
      " 10  ku_name            50 non-null     object \n",
      " 11  floor              50 non-null     object \n",
      " 12  house_type         50 non-null     object \n",
      "dtypes: float64(1), object(12)\n",
      "memory usage: 5.2+ KB\n"
     ]
    }
   ],
   "source": [
    "df.info()"
   ]
  },
  {
   "cell_type": "code",
   "execution_count": 58,
   "metadata": {},
   "outputs": [],
   "source": [
    "# convert different values into their respective types \n",
    "df.apartment_type = df.apartment_type.astype(str)"
   ]
  },
  {
   "cell_type": "code",
   "execution_count": 60,
   "metadata": {},
   "outputs": [
    {
     "data": {
      "text/plain": [
       "array(['2K', '1DK', '1K', '1LDK', '2DK'], dtype=object)"
      ]
     },
     "execution_count": 60,
     "metadata": {},
     "output_type": "execute_result"
    }
   ],
   "source": [
    "df.apartment_type.unique()"
   ]
  },
  {
   "cell_type": "code",
   "execution_count": null,
   "metadata": {},
   "outputs": [],
   "source": []
  }
 ],
 "metadata": {
  "kernelspec": {
   "display_name": "Python 3",
   "language": "python",
   "name": "python3"
  },
  "language_info": {
   "codemirror_mode": {
    "name": "ipython",
    "version": 3
   },
   "file_extension": ".py",
   "mimetype": "text/x-python",
   "name": "python",
   "nbconvert_exporter": "python",
   "pygments_lexer": "ipython3",
   "version": "3.9.0"
  }
 },
 "nbformat": 4,
 "nbformat_minor": 4
}
