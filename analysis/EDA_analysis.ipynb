{
 "cells": [
  {
   "cell_type": "markdown",
   "metadata": {},
   "source": [
    "## EDA"
   ]
  },
  {
   "cell_type": "code",
   "execution_count": 1,
   "metadata": {},
   "outputs": [],
   "source": [
    "import matplotlib.pyplot as plt\n",
    "import seaborn as sns\n",
    "import pandas as pd \n",
    "import os \n",
    "import numpy as np \n",
    "sns.set_style(\"whitegrid\")\n"
   ]
  },
  {
   "cell_type": "code",
   "execution_count": 4,
   "metadata": {},
   "outputs": [],
   "source": [
    "# grab our dataset(s)\n",
    "os.chdir(\"/Users/jabras/rent_scrape/data/\")\n",
    "df = pd.read_csv('tokyo.csv', sep = ',')\n",
    "df_2 = pd.read_csv('tokyo_2.csv', sep = ',')\n",
    "\n",
    "# append the datasets \n",
    "test = pd.concat([df, df_2], axis = 0)"
   ]
  },
  {
   "cell_type": "code",
   "execution_count": 5,
   "metadata": {},
   "outputs": [
    {
     "data": {
      "text/html": [
       "<div>\n",
       "<style scoped>\n",
       "    .dataframe tbody tr th:only-of-type {\n",
       "        vertical-align: middle;\n",
       "    }\n",
       "\n",
       "    .dataframe tbody tr th {\n",
       "        vertical-align: top;\n",
       "    }\n",
       "\n",
       "    .dataframe thead th {\n",
       "        text-align: right;\n",
       "    }\n",
       "</style>\n",
       "<table border=\"1\" class=\"dataframe\">\n",
       "  <thead>\n",
       "    <tr style=\"text-align: right;\">\n",
       "      <th></th>\n",
       "      <th>rent_price</th>\n",
       "      <th>address</th>\n",
       "      <th>sqr_m</th>\n",
       "      <th>name_place</th>\n",
       "      <th>rei_price</th>\n",
       "      <th>shikikin</th>\n",
       "      <th>maintenence_price</th>\n",
       "      <th>nearest_eki</th>\n",
       "      <th>apartment_type</th>\n",
       "      <th>year_built</th>\n",
       "      <th>ku_name</th>\n",
       "      <th>floor</th>\n",
       "      <th>house_type</th>\n",
       "      <th>Lat</th>\n",
       "      <th>Lon</th>\n",
       "    </tr>\n",
       "  </thead>\n",
       "  <tbody>\n",
       "    <tr>\n",
       "      <th>0</th>\n",
       "      <td>13万円</td>\n",
       "      <td>東京都中野区中野２</td>\n",
       "      <td>25.1m2</td>\n",
       "      <td>ＪＲ中央線 中野駅 8階建 築1年</td>\n",
       "      <td>-</td>\n",
       "      <td>13万円</td>\n",
       "      <td>10000円</td>\n",
       "      <td>ＪＲ中央線/中野駅 歩5分</td>\n",
       "      <td>2K</td>\n",
       "      <td>築1年</td>\n",
       "      <td>東京都中野区中野２</td>\n",
       "      <td>8階建\\n</td>\n",
       "      <td>賃貸マンション</td>\n",
       "      <td>NaN</td>\n",
       "      <td>NaN</td>\n",
       "    </tr>\n",
       "    <tr>\n",
       "      <th>1</th>\n",
       "      <td>17万円</td>\n",
       "      <td>東京都中野区新井１</td>\n",
       "      <td>46.07m2</td>\n",
       "      <td>西武新宿線 新井薬師前駅 2階建 築13年</td>\n",
       "      <td>17万円</td>\n",
       "      <td>17万円</td>\n",
       "      <td>3000円</td>\n",
       "      <td>西武新宿線/新井薬師前駅 歩8分</td>\n",
       "      <td>2K</td>\n",
       "      <td>築13年</td>\n",
       "      <td>東京都中野区新井１</td>\n",
       "      <td>\\n2階建\\n</td>\n",
       "      <td>賃貸アパート</td>\n",
       "      <td>NaN</td>\n",
       "      <td>NaN</td>\n",
       "    </tr>\n",
       "    <tr>\n",
       "      <th>2</th>\n",
       "      <td>11万円</td>\n",
       "      <td>東京都目黒区碑文谷２</td>\n",
       "      <td>35.05m2</td>\n",
       "      <td>東急東横線 学芸大学駅 3階建 築30年</td>\n",
       "      <td>11万円</td>\n",
       "      <td>11万円</td>\n",
       "      <td>-</td>\n",
       "      <td>東急東横線/学芸大学駅 歩12分</td>\n",
       "      <td>2K</td>\n",
       "      <td>築30年</td>\n",
       "      <td>東京都目黒区碑文谷２</td>\n",
       "      <td>\\n3階建\\n</td>\n",
       "      <td>賃貸マンション</td>\n",
       "      <td>NaN</td>\n",
       "      <td>NaN</td>\n",
       "    </tr>\n",
       "    <tr>\n",
       "      <th>3</th>\n",
       "      <td>8.7万円</td>\n",
       "      <td>東京都文京区本駒込５</td>\n",
       "      <td>30m2</td>\n",
       "      <td>正太駒込マンション</td>\n",
       "      <td>8.7万円</td>\n",
       "      <td>8.7万円</td>\n",
       "      <td>3000円</td>\n",
       "      <td>ＪＲ山手線/駒込駅 歩6分</td>\n",
       "      <td>2K</td>\n",
       "      <td>築53年</td>\n",
       "      <td>東京都文京区本駒込５</td>\n",
       "      <td>\\n12階建\\n</td>\n",
       "      <td>賃貸マンション</td>\n",
       "      <td>NaN</td>\n",
       "      <td>NaN</td>\n",
       "    </tr>\n",
       "    <tr>\n",
       "      <th>4</th>\n",
       "      <td>7.9万円</td>\n",
       "      <td>東京都中野区中央３</td>\n",
       "      <td>30.62m2</td>\n",
       "      <td>水上アパート</td>\n",
       "      <td>7.9万円</td>\n",
       "      <td>7.9万円</td>\n",
       "      <td>3000円</td>\n",
       "      <td>東京メトロ丸ノ内線/新中野駅 歩8分</td>\n",
       "      <td>2K</td>\n",
       "      <td>築37年</td>\n",
       "      <td>東京都中野区中央３</td>\n",
       "      <td>\\n2階建\\n</td>\n",
       "      <td>賃貸アパート</td>\n",
       "      <td>NaN</td>\n",
       "      <td>NaN</td>\n",
       "    </tr>\n",
       "  </tbody>\n",
       "</table>\n",
       "</div>"
      ],
      "text/plain": [
       "  rent_price     address    sqr_m             name_place rei_price shikikin  \\\n",
       "0       13万円   東京都中野区中野２   25.1m2      ＪＲ中央線 中野駅 8階建 築1年         -     13万円   \n",
       "1       17万円   東京都中野区新井１  46.07m2  西武新宿線 新井薬師前駅 2階建 築13年      17万円     17万円   \n",
       "2       11万円  東京都目黒区碑文谷２  35.05m2   東急東横線 学芸大学駅 3階建 築30年      11万円     11万円   \n",
       "3      8.7万円  東京都文京区本駒込５     30m2              正太駒込マンション     8.7万円    8.7万円   \n",
       "4      7.9万円   東京都中野区中央３  30.62m2                 水上アパート     7.9万円    7.9万円   \n",
       "\n",
       "  maintenence_price         nearest_eki apartment_type year_built     ku_name  \\\n",
       "0            10000円       ＪＲ中央線/中野駅 歩5分             2K        築1年   東京都中野区中野２   \n",
       "1             3000円    西武新宿線/新井薬師前駅 歩8分             2K       築13年   東京都中野区新井１   \n",
       "2                 -    東急東横線/学芸大学駅 歩12分             2K       築30年  東京都目黒区碑文谷２   \n",
       "3             3000円       ＪＲ山手線/駒込駅 歩6分             2K       築53年  東京都文京区本駒込５   \n",
       "4             3000円  東京メトロ丸ノ内線/新中野駅 歩8分             2K       築37年   東京都中野区中央３   \n",
       "\n",
       "      floor house_type  Lat  Lon  \n",
       "0     8階建\\n    賃貸マンション  NaN  NaN  \n",
       "1   \\n2階建\\n     賃貸アパート  NaN  NaN  \n",
       "2   \\n3階建\\n    賃貸マンション  NaN  NaN  \n",
       "3  \\n12階建\\n    賃貸マンション  NaN  NaN  \n",
       "4   \\n2階建\\n     賃貸アパート  NaN  NaN  "
      ]
     },
     "execution_count": 5,
     "metadata": {},
     "output_type": "execute_result"
    }
   ],
   "source": [
    "test.head()"
   ]
  },
  {
   "cell_type": "code",
   "execution_count": 7,
   "metadata": {},
   "outputs": [
    {
     "data": {
      "text/plain": [
       "array(['10000円', '3000円', '-', '8000円', '6000円', '2000円', '4000円',\n",
       "       '5000円', '12000円', '8100円', '5800円', '7000円', '4500円', '16000円',\n",
       "       '8500円', '15000円', '3500円', '11000円', '9000円', '6400円'],\n",
       "      dtype=object)"
      ]
     },
     "execution_count": 7,
     "metadata": {},
     "output_type": "execute_result"
    }
   ],
   "source": [
    "test.maintenence_price.unique()"
   ]
  },
  {
   "cell_type": "code",
   "execution_count": 11,
   "metadata": {},
   "outputs": [
    {
     "name": "stdout",
     "output_type": "stream",
     "text": [
      "<class 'pandas.core.frame.DataFrame'>\n",
      "Int64Index: 1150 entries, 0 to 699\n",
      "Data columns (total 15 columns):\n",
      " #   Column             Non-Null Count  Dtype  \n",
      "---  ------             --------------  -----  \n",
      " 0   rent_price         1150 non-null   object \n",
      " 1   address            1150 non-null   object \n",
      " 2   sqr_m              1150 non-null   object \n",
      " 3   name_place         1150 non-null   object \n",
      " 4   rei_price          1150 non-null   object \n",
      " 5   shikikin           1150 non-null   object \n",
      " 6   maintenence_price  1150 non-null   object \n",
      " 7   nearest_eki        1150 non-null   object \n",
      " 8   apartment_type     1150 non-null   object \n",
      " 9   year_built         1150 non-null   object \n",
      " 10  ku_name            1150 non-null   object \n",
      " 11  floor              1150 non-null   object \n",
      " 12  house_type         1150 non-null   object \n",
      " 13  Lat                0 non-null      float64\n",
      " 14  Lon                0 non-null      float64\n",
      "dtypes: float64(2), object(13)\n",
      "memory usage: 143.8+ KB\n"
     ]
    }
   ],
   "source": [
    "test.info()"
   ]
  },
  {
   "cell_type": "code",
   "execution_count": 4,
   "metadata": {},
   "outputs": [],
   "source": [
    "# drop lat and lon \n",
    "test = df.drop(columns = ['Lat', 'Lon'], axis = 1)"
   ]
  },
  {
   "cell_type": "code",
   "execution_count": 6,
   "metadata": {},
   "outputs": [
    {
     "data": {
      "text/plain": [
       "1LDK     355\n",
       "1DK      317\n",
       "1K       180\n",
       "2K       136\n",
       "2DK      116\n",
       "1SLDK     28\n",
       "2SK        9\n",
       "2SDK       9\n",
       "Name: apartment_type, dtype: int64"
      ]
     },
     "execution_count": 6,
     "metadata": {},
     "output_type": "execute_result"
    }
   ],
   "source": [
    "# apartment type and number of each type \n",
    "test.apartment_type.value_counts()"
   ]
  },
  {
   "cell_type": "code",
   "execution_count": 20,
   "metadata": {},
   "outputs": [],
   "source": [
    "# remove manen\n",
    "test.rent_price = test.rent_price.str.split('万円').str[0]"
   ]
  },
  {
   "cell_type": "code",
   "execution_count": 23,
   "metadata": {},
   "outputs": [],
   "source": [
    "# remove m2 from square meters\n",
    "test.sqr_m = test.sqr_m.str.split('m2').str[0]"
   ]
  },
  {
   "cell_type": "code",
   "execution_count": 24,
   "metadata": {},
   "outputs": [],
   "source": [
    "# make square meters a numeric \n",
    "test.sqr_m = pd.to_numeric(test.sqr_m)"
   ]
  },
  {
   "cell_type": "code",
   "execution_count": 21,
   "metadata": {},
   "outputs": [],
   "source": [
    "# make rent_price numeric \n",
    "test.rent_price = pd.to_numeric(test.rent_price)"
   ]
  },
  {
   "cell_type": "code",
   "execution_count": 20,
   "metadata": {},
   "outputs": [
    {
     "data": {
      "text/plain": [
       "<AxesSubplot:xlabel='apartment_type', ylabel='rent_price'>"
      ]
     },
     "execution_count": 20,
     "metadata": {},
     "output_type": "execute_result"
    },
    {
     "data": {
      "image/png": "[encoded data removed]",
      "text/plain": [
       "<Figure size 432x288 with 1 Axes>"
      ]
     },
     "metadata": {},
     "output_type": "display_data"
    }
   ],
   "source": [
    "# graph apartment type by rent_price \n",
    "sns.barplot(x = test.apartment_type, y = test.rent_price, data = test)"
   ]
  },
  {
   "cell_type": "code",
   "execution_count": 16,
   "metadata": {},
   "outputs": [],
   "source": [
    "# fix ku name \n",
    "test.ku_name = test.ku_name.str.split('東京都').str[1]\n",
    "test.ku_name = test.ku_name.str.split('区').str[0]"
   ]
  },
  {
   "cell_type": "code",
   "execution_count": 22,
   "metadata": {},
   "outputs": [
    {
     "data": {
      "text/plain": [
       "<AxesSubplot:xlabel='ku_name', ylabel='rent_price'>"
      ]
     },
     "execution_count": 22,
     "metadata": {},
     "output_type": "execute_result"
    },
    {
     "name": "stderr",
     "output_type": "stream",
     "text": [
      "/usr/local/lib/python3.9/site-packages/matplotlib/backends/backend_agg.py:238: RuntimeWarning: Glyph 20013 missing from current font.\n",
      "  font.set_text(s, 0.0, flags=flags)\n",
      "/usr/local/lib/python3.9/site-packages/matplotlib/backends/backend_agg.py:238: RuntimeWarning: Glyph 37326 missing from current font.\n",
      "  font.set_text(s, 0.0, flags=flags)\n",
      "/usr/local/lib/python3.9/site-packages/matplotlib/backends/backend_agg.py:238: RuntimeWarning: Glyph 30446 missing from current font.\n",
      "  font.set_text(s, 0.0, flags=flags)\n",
      "/usr/local/lib/python3.9/site-packages/matplotlib/backends/backend_agg.py:238: RuntimeWarning: Glyph 40658 missing from current font.\n",
      "  font.set_text(s, 0.0, flags=flags)\n",
      "/usr/local/lib/python3.9/site-packages/matplotlib/backends/backend_agg.py:238: RuntimeWarning: Glyph 25991 missing from current font.\n",
      "  font.set_text(s, 0.0, flags=flags)\n",
      "/usr/local/lib/python3.9/site-packages/matplotlib/backends/backend_agg.py:238: RuntimeWarning: Glyph 20140 missing from current font.\n",
      "  font.set_text(s, 0.0, flags=flags)\n",
      "/usr/local/lib/python3.9/site-packages/matplotlib/backends/backend_agg.py:238: RuntimeWarning: Glyph 26032 missing from current font.\n",
      "  font.set_text(s, 0.0, flags=flags)\n",
      "/usr/local/lib/python3.9/site-packages/matplotlib/backends/backend_agg.py:238: RuntimeWarning: Glyph 23487 missing from current font.\n",
      "  font.set_text(s, 0.0, flags=flags)\n",
      "/usr/local/lib/python3.9/site-packages/matplotlib/backends/backend_agg.py:238: RuntimeWarning: Glyph 33618 missing from current font.\n",
      "  font.set_text(s, 0.0, flags=flags)\n",
      "/usr/local/lib/python3.9/site-packages/matplotlib/backends/backend_agg.py:238: RuntimeWarning: Glyph 24029 missing from current font.\n",
      "  font.set_text(s, 0.0, flags=flags)\n",
      "/usr/local/lib/python3.9/site-packages/matplotlib/backends/backend_agg.py:238: RuntimeWarning: Glyph 22696 missing from current font.\n",
      "  font.set_text(s, 0.0, flags=flags)\n",
      "/usr/local/lib/python3.9/site-packages/matplotlib/backends/backend_agg.py:238: RuntimeWarning: Glyph 30000 missing from current font.\n",
      "  font.set_text(s, 0.0, flags=flags)\n",
      "/usr/local/lib/python3.9/site-packages/matplotlib/backends/backend_agg.py:238: RuntimeWarning: Glyph 22830 missing from current font.\n",
      "  font.set_text(s, 0.0, flags=flags)\n",
      "/usr/local/lib/python3.9/site-packages/matplotlib/backends/backend_agg.py:238: RuntimeWarning: Glyph 21488 missing from current font.\n",
      "  font.set_text(s, 0.0, flags=flags)\n",
      "/usr/local/lib/python3.9/site-packages/matplotlib/backends/backend_agg.py:238: RuntimeWarning: Glyph 26481 missing from current font.\n",
      "  font.set_text(s, 0.0, flags=flags)\n",
      "/usr/local/lib/python3.9/site-packages/matplotlib/backends/backend_agg.py:238: RuntimeWarning: Glyph 27743 missing from current font.\n",
      "  font.set_text(s, 0.0, flags=flags)\n",
      "/usr/local/lib/python3.9/site-packages/matplotlib/backends/backend_agg.py:238: RuntimeWarning: Glyph 21697 missing from current font.\n",
      "  font.set_text(s, 0.0, flags=flags)\n",
      "/usr/local/lib/python3.9/site-packages/matplotlib/backends/backend_agg.py:238: RuntimeWarning: Glyph 26441 missing from current font.\n",
      "  font.set_text(s, 0.0, flags=flags)\n",
      "/usr/local/lib/python3.9/site-packages/matplotlib/backends/backend_agg.py:238: RuntimeWarning: Glyph 20006 missing from current font.\n",
      "  font.set_text(s, 0.0, flags=flags)\n",
      "/usr/local/lib/python3.9/site-packages/matplotlib/backends/backend_agg.py:238: RuntimeWarning: Glyph 28207 missing from current font.\n",
      "  font.set_text(s, 0.0, flags=flags)\n",
      "/usr/local/lib/python3.9/site-packages/matplotlib/backends/backend_agg.py:238: RuntimeWarning: Glyph 22823 missing from current font.\n",
      "  font.set_text(s, 0.0, flags=flags)\n",
      "/usr/local/lib/python3.9/site-packages/matplotlib/backends/backend_agg.py:238: RuntimeWarning: Glyph 28171 missing from current font.\n",
      "  font.set_text(s, 0.0, flags=flags)\n",
      "/usr/local/lib/python3.9/site-packages/matplotlib/backends/backend_agg.py:238: RuntimeWarning: Glyph 35895 missing from current font.\n",
      "  font.set_text(s, 0.0, flags=flags)\n",
      "/usr/local/lib/python3.9/site-packages/matplotlib/backends/backend_agg.py:238: RuntimeWarning: Glyph 35914 missing from current font.\n",
      "  font.set_text(s, 0.0, flags=flags)\n",
      "/usr/local/lib/python3.9/site-packages/matplotlib/backends/backend_agg.py:238: RuntimeWarning: Glyph 23798 missing from current font.\n",
      "  font.set_text(s, 0.0, flags=flags)\n",
      "/usr/local/lib/python3.9/site-packages/matplotlib/backends/backend_agg.py:238: RuntimeWarning: Glyph 19990 missing from current font.\n",
      "  font.set_text(s, 0.0, flags=flags)\n",
      "/usr/local/lib/python3.9/site-packages/matplotlib/backends/backend_agg.py:201: RuntimeWarning: Glyph 20013 missing from current font.\n",
      "  font.set_text(s, 0, flags=flags)\n",
      "/usr/local/lib/python3.9/site-packages/matplotlib/backends/backend_agg.py:201: RuntimeWarning: Glyph 37326 missing from current font.\n",
      "  font.set_text(s, 0, flags=flags)\n",
      "/usr/local/lib/python3.9/site-packages/matplotlib/backends/backend_agg.py:201: RuntimeWarning: Glyph 30446 missing from current font.\n",
      "  font.set_text(s, 0, flags=flags)\n",
      "/usr/local/lib/python3.9/site-packages/matplotlib/backends/backend_agg.py:201: RuntimeWarning: Glyph 40658 missing from current font.\n",
      "  font.set_text(s, 0, flags=flags)\n",
      "/usr/local/lib/python3.9/site-packages/matplotlib/backends/backend_agg.py:201: RuntimeWarning: Glyph 25991 missing from current font.\n",
      "  font.set_text(s, 0, flags=flags)\n",
      "/usr/local/lib/python3.9/site-packages/matplotlib/backends/backend_agg.py:201: RuntimeWarning: Glyph 20140 missing from current font.\n",
      "  font.set_text(s, 0, flags=flags)\n",
      "/usr/local/lib/python3.9/site-packages/matplotlib/backends/backend_agg.py:201: RuntimeWarning: Glyph 26032 missing from current font.\n",
      "  font.set_text(s, 0, flags=flags)\n",
      "/usr/local/lib/python3.9/site-packages/matplotlib/backends/backend_agg.py:201: RuntimeWarning: Glyph 23487 missing from current font.\n",
      "  font.set_text(s, 0, flags=flags)\n",
      "/usr/local/lib/python3.9/site-packages/matplotlib/backends/backend_agg.py:201: RuntimeWarning: Glyph 33618 missing from current font.\n",
      "  font.set_text(s, 0, flags=flags)\n",
      "/usr/local/lib/python3.9/site-packages/matplotlib/backends/backend_agg.py:201: RuntimeWarning: Glyph 24029 missing from current font.\n",
      "  font.set_text(s, 0, flags=flags)\n",
      "/usr/local/lib/python3.9/site-packages/matplotlib/backends/backend_agg.py:201: RuntimeWarning: Glyph 22696 missing from current font.\n",
      "  font.set_text(s, 0, flags=flags)\n",
      "/usr/local/lib/python3.9/site-packages/matplotlib/backends/backend_agg.py:201: RuntimeWarning: Glyph 30000 missing from current font.\n",
      "  font.set_text(s, 0, flags=flags)\n",
      "/usr/local/lib/python3.9/site-packages/matplotlib/backends/backend_agg.py:201: RuntimeWarning: Glyph 22830 missing from current font.\n",
      "  font.set_text(s, 0, flags=flags)\n",
      "/usr/local/lib/python3.9/site-packages/matplotlib/backends/backend_agg.py:201: RuntimeWarning: Glyph 21488 missing from current font.\n",
      "  font.set_text(s, 0, flags=flags)\n",
      "/usr/local/lib/python3.9/site-packages/matplotlib/backends/backend_agg.py:201: RuntimeWarning: Glyph 26481 missing from current font.\n",
      "  font.set_text(s, 0, flags=flags)\n",
      "/usr/local/lib/python3.9/site-packages/matplotlib/backends/backend_agg.py:201: RuntimeWarning: Glyph 27743 missing from current font.\n",
      "  font.set_text(s, 0, flags=flags)\n",
      "/usr/local/lib/python3.9/site-packages/matplotlib/backends/backend_agg.py:201: RuntimeWarning: Glyph 21697 missing from current font.\n",
      "  font.set_text(s, 0, flags=flags)\n",
      "/usr/local/lib/python3.9/site-packages/matplotlib/backends/backend_agg.py:201: RuntimeWarning: Glyph 26441 missing from current font.\n",
      "  font.set_text(s, 0, flags=flags)\n",
      "/usr/local/lib/python3.9/site-packages/matplotlib/backends/backend_agg.py:201: RuntimeWarning: Glyph 20006 missing from current font.\n",
      "  font.set_text(s, 0, flags=flags)\n",
      "/usr/local/lib/python3.9/site-packages/matplotlib/backends/backend_agg.py:201: RuntimeWarning: Glyph 28207 missing from current font.\n",
      "  font.set_text(s, 0, flags=flags)\n",
      "/usr/local/lib/python3.9/site-packages/matplotlib/backends/backend_agg.py:201: RuntimeWarning: Glyph 22823 missing from current font.\n",
      "  font.set_text(s, 0, flags=flags)\n",
      "/usr/local/lib/python3.9/site-packages/matplotlib/backends/backend_agg.py:201: RuntimeWarning: Glyph 28171 missing from current font.\n",
      "  font.set_text(s, 0, flags=flags)\n",
      "/usr/local/lib/python3.9/site-packages/matplotlib/backends/backend_agg.py:201: RuntimeWarning: Glyph 35895 missing from current font.\n",
      "  font.set_text(s, 0, flags=flags)\n",
      "/usr/local/lib/python3.9/site-packages/matplotlib/backends/backend_agg.py:201: RuntimeWarning: Glyph 35914 missing from current font.\n",
      "  font.set_text(s, 0, flags=flags)\n",
      "/usr/local/lib/python3.9/site-packages/matplotlib/backends/backend_agg.py:201: RuntimeWarning: Glyph 23798 missing from current font.\n",
      "  font.set_text(s, 0, flags=flags)\n",
      "/usr/local/lib/python3.9/site-packages/matplotlib/backends/backend_agg.py:201: RuntimeWarning: Glyph 19990 missing from current font.\n",
      "  font.set_text(s, 0, flags=flags)\n"
     ]
    },
    {
     "data": {
      "image/png": "[encoded data removed]",
      "text/plain": [
       "<Figure size 432x288 with 1 Axes>"
      ]
     },
     "metadata": {},
     "output_type": "display_data"
    }
   ],
   "source": [
    "# graph rent_price by ku name \n",
    "sns.barplot(x = test.ku_name, y = test.rent_price, data = test)"
   ]
  },
  {
   "cell_type": "code",
   "execution_count": null,
   "metadata": {},
   "outputs": [],
   "source": [
    "# graph rent_price by closeness to eki \n"
   ]
  },
  {
   "cell_type": "code",
   "execution_count": 26,
   "metadata": {},
   "outputs": [],
   "source": [
    "# graph sqr meeters by rent_price - will still need to adjust rent_price's values \n",
    "#sns.lmplot(x = test.rent_price, y = test.sqr_m, data = test)"
   ]
  },
  {
   "cell_type": "markdown",
   "metadata": {},
   "source": [
    "## Analysis"
   ]
  },
  {
   "cell_type": "code",
   "execution_count": null,
   "metadata": {},
   "outputs": [],
   "source": [
    "import statsmodels.api as sm \n",
    "import statsmodels.formula.api as smf"
   ]
  },
  {
   "cell_type": "code",
   "execution_count": null,
   "metadata": {},
   "outputs": [],
   "source": [
    "# spatial analysis in python - https://pypi.org/project/pysal/\n",
    "\n",
    "# https://www.statsmodels.org/stable/examples/notebooks/generated/kernel_density.html\n",
    "# https://geographicdata.science/book/notebooks/08_point_pattern_analysis.html\n",
    "# "
   ]
  }
 ],
 "metadata": {
  "kernelspec": {
   "display_name": "Python 3",
   "language": "python",
   "name": "python3"
  },
  "language_info": {
   "codemirror_mode": {
    "name": "ipython",
    "version": 3
   },
   "file_extension": ".py",
   "mimetype": "text/x-python",
   "name": "python",
   "nbconvert_exporter": "python",
   "pygments_lexer": "ipython3",
   "version": "3.9.0"
  }
 },
 "nbformat": 4,
 "nbformat_minor": 4
}
