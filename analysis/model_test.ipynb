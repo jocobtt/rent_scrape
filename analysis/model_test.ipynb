{
 "cells": [
  {
   "cell_type": "code",
   "execution_count": 22,
   "metadata": {},
   "outputs": [],
   "source": [
    "from mlem.api import serve, load, save\n",
    "import os \n",
    "import pandas as pd\n",
    "from sklearn.linear_model import LinearRegression\n",
    "import statsmodels.api as sm\n",
    "import statsmodels.formula.api as smf\n",
    "from sklearn.model_selection import train_test_split\n",
    "from sklearn.metrics import mean_squared_error\n",
    "import mlflow\n"
   ]
  },
  {
   "cell_type": "code",
   "execution_count": 23,
   "metadata": {},
   "outputs": [],
   "source": [
    "# load the data \n",
    "df = pd.read_csv(\"/Users/jabras/rent_scrape/data/tokyo_model.csv\")\n",
    "# still could improve the model"
   ]
  },
  {
   "cell_type": "code",
   "execution_count": 25,
   "metadata": {},
   "outputs": [
    {
     "name": "stdout",
     "output_type": "stream",
     "text": [
      "<class 'pandas.core.frame.DataFrame'>\n",
      "RangeIndex: 450 entries, 0 to 449\n",
      "Data columns (total 15 columns):\n",
      " #   Column             Non-Null Count  Dtype  \n",
      "---  ------             --------------  -----  \n",
      " 0   rent_price         450 non-null    float64\n",
      " 1   address            450 non-null    object \n",
      " 2   sqr_m              450 non-null    float64\n",
      " 3   name_place         450 non-null    object \n",
      " 4   rei_price          450 non-null    object \n",
      " 5   shikikin           450 non-null    object \n",
      " 6   maintenence_price  450 non-null    object \n",
      " 7   nearest_eki        450 non-null    object \n",
      " 8   apartment_type     450 non-null    object \n",
      " 9   year_built         9 non-null      object \n",
      " 10  ku_name            450 non-null    object \n",
      " 11  floor              423 non-null    float64\n",
      " 12  house_type         450 non-null    object \n",
      " 13  Lat                0 non-null      float64\n",
      " 14  Lon                0 non-null      float64\n",
      "dtypes: float64(5), object(10)\n",
      "memory usage: 52.9+ KB\n"
     ]
    }
   ],
   "source": [
    "df.info()\n",
    "# make rent price an int, \n",
    "df['rent_price'] = df['rent_price'].astype(int)\n",
    "# make rei price an int\n",
    "df = df.replace('nan', '0')\n",
    "df = df.replace('-', '0')\n",
    "df['rei_price'] = df['rei_price'].astype(float)\n",
    "# make shiki price an int\n",
    "df['shikikin'] = df['shikikin'].astype(float)\n",
    "# make maintenance price an int\n",
    "df['maintenence_price'] = df['maintenence_price'].astype(int)\n",
    "# fix year built \n",
    "#df['year_built'] = df['year_built'].str.split('築').str[0]\n",
    "#df['year_built'] = df['year_built'].str.split('年').str[0]\n",
    "## convert '新築' to 0\n",
    "#df['year_built'] = df['year_built'].replace('新築', 0)\n",
    "#df['year_built'] = df['year_built'].replace('新', 0)\n",
    "#df['year_built'] = df['year_built'].astype(float)\n",
    "# replace nans in floor with 0\n",
    "df['floor'] = df['floor'].replace('nan', '0')"
   ]
  },
  {
   "cell_type": "code",
   "execution_count": 24,
   "metadata": {},
   "outputs": [
    {
     "data": {
      "text/plain": [
       "array([nan, '新'], dtype=object)"
      ]
     },
     "execution_count": 24,
     "metadata": {},
     "output_type": "execute_result"
    }
   ],
   "source": [
    "df.year_built.unique()"
   ]
  },
  {
   "cell_type": "code",
   "execution_count": null,
   "metadata": {},
   "outputs": [],
   "source": [
    "# make dummy variables for categorical variables\n",
    "df = pd.get_dummies(df, columns = [\"apartment_type\", \"house_type\", \"ku_name\"])"
   ]
  },
  {
   "cell_type": "code",
   "execution_count": 17,
   "metadata": {},
   "outputs": [],
   "source": [
    "# make test and train sets\n",
    "train, test = train_test_split(df, test_size = 0.2, random_state = 42)\n"
   ]
  },
  {
   "cell_type": "code",
   "execution_count": 28,
   "metadata": {},
   "outputs": [
    {
     "data": {
      "text/html": [
       "<table class=\"simpletable\">\n",
       "<caption>OLS Regression Results</caption>\n",
       "<tr>\n",
       "  <th>Dep. Variable:</th>       <td>rent_price</td>    <th>  R-squared:         </th> <td>   0.698</td>\n",
       "</tr>\n",
       "<tr>\n",
       "  <th>Model:</th>                   <td>OLS</td>       <th>  Adj. R-squared:    </th> <td>   0.678</td>\n",
       "</tr>\n",
       "<tr>\n",
       "  <th>Method:</th>             <td>Least Squares</td>  <th>  F-statistic:       </th> <td>   34.76</td>\n",
       "</tr>\n",
       "<tr>\n",
       "  <th>Date:</th>             <td>Wed, 22 Mar 2023</td> <th>  Prob (F-statistic):</th> <td>2.34e-69</td>\n",
       "</tr>\n",
       "<tr>\n",
       "  <th>Time:</th>                 <td>11:42:00</td>     <th>  Log-Likelihood:    </th> <td> -557.38</td>\n",
       "</tr>\n",
       "<tr>\n",
       "  <th>No. Observations:</th>      <td>   338</td>      <th>  AIC:               </th> <td>   1159.</td>\n",
       "</tr>\n",
       "<tr>\n",
       "  <th>Df Residuals:</th>          <td>   316</td>      <th>  BIC:               </th> <td>   1243.</td>\n",
       "</tr>\n",
       "<tr>\n",
       "  <th>Df Model:</th>              <td>    21</td>      <th>                     </th>     <td> </td>   \n",
       "</tr>\n",
       "<tr>\n",
       "  <th>Covariance Type:</th>      <td>nonrobust</td>    <th>                     </th>     <td> </td>   \n",
       "</tr>\n",
       "</table>\n",
       "<table class=\"simpletable\">\n",
       "<tr>\n",
       "              <td></td>                 <th>coef</th>     <th>std err</th>      <th>t</th>      <th>P>|t|</th>  <th>[0.025</th>    <th>0.975]</th>  \n",
       "</tr>\n",
       "<tr>\n",
       "  <th>Intercept</th>                 <td>    6.6336</td> <td>    0.937</td> <td>    7.080</td> <td> 0.000</td> <td>    4.790</td> <td>    8.477</td>\n",
       "</tr>\n",
       "<tr>\n",
       "  <th>C(apartment_type)[T.1K]</th>   <td>    0.6519</td> <td>    0.486</td> <td>    1.341</td> <td> 0.181</td> <td>   -0.304</td> <td>    1.608</td>\n",
       "</tr>\n",
       "<tr>\n",
       "  <th>C(apartment_type)[T.1LDK]</th> <td>    1.1606</td> <td>    0.309</td> <td>    3.751</td> <td> 0.000</td> <td>    0.552</td> <td>    1.769</td>\n",
       "</tr>\n",
       "<tr>\n",
       "  <th>C(apartment_type)[T.2DK]</th>  <td>   -0.7254</td> <td>    0.523</td> <td>   -1.388</td> <td> 0.166</td> <td>   -1.754</td> <td>    0.303</td>\n",
       "</tr>\n",
       "<tr>\n",
       "  <th>C(apartment_type)[T.2K]</th>   <td>   -0.0968</td> <td>    0.229</td> <td>   -0.424</td> <td> 0.672</td> <td>   -0.547</td> <td>    0.353</td>\n",
       "</tr>\n",
       "<tr>\n",
       "  <th>C(apartment_type)[T.2SDK]</th> <td>    1.6544</td> <td>    0.841</td> <td>    1.967</td> <td> 0.050</td> <td>   -0.000</td> <td>    3.309</td>\n",
       "</tr>\n",
       "<tr>\n",
       "  <th>C(apartment_type)[T.2SK]</th>  <td>   -3.5141</td> <td>    0.646</td> <td>   -5.443</td> <td> 0.000</td> <td>   -4.784</td> <td>   -2.244</td>\n",
       "</tr>\n",
       "<tr>\n",
       "  <th>C(ku_name)[T.中野]</th>          <td>   -4.4327</td> <td>    0.491</td> <td>   -9.028</td> <td> 0.000</td> <td>   -5.399</td> <td>   -3.467</td>\n",
       "</tr>\n",
       "<tr>\n",
       "  <th>C(ku_name)[T.台東]</th>          <td>   -3.8169</td> <td>    0.471</td> <td>   -8.107</td> <td> 0.000</td> <td>   -4.743</td> <td>   -2.891</td>\n",
       "</tr>\n",
       "<tr>\n",
       "  <th>C(ku_name)[T.品川]</th>          <td>   -5.1243</td> <td>    0.559</td> <td>   -9.162</td> <td> 0.000</td> <td>   -6.225</td> <td>   -4.024</td>\n",
       "</tr>\n",
       "<tr>\n",
       "  <th>C(ku_name)[T.墨田]</th>          <td>   -4.0282</td> <td>    0.588</td> <td>   -6.851</td> <td> 0.000</td> <td>   -5.185</td> <td>   -2.871</td>\n",
       "</tr>\n",
       "<tr>\n",
       "  <th>C(ku_name)[T.大田]</th>          <td>-2.448e-15</td> <td> 3.65e-16</td> <td>   -6.704</td> <td> 0.000</td> <td>-3.17e-15</td> <td>-1.73e-15</td>\n",
       "</tr>\n",
       "<tr>\n",
       "  <th>C(ku_name)[T.文京]</th>          <td>   -3.6606</td> <td>    0.727</td> <td>   -5.032</td> <td> 0.000</td> <td>   -5.092</td> <td>   -2.229</td>\n",
       "</tr>\n",
       "<tr>\n",
       "  <th>C(ku_name)[T.新宿]</th>          <td>   -2.1178</td> <td>    0.572</td> <td>   -3.701</td> <td> 0.000</td> <td>   -3.244</td> <td>   -0.992</td>\n",
       "</tr>\n",
       "<tr>\n",
       "  <th>C(ku_name)[T.杉並]</th>          <td>   -4.1091</td> <td>    0.592</td> <td>   -6.944</td> <td> 0.000</td> <td>   -5.273</td> <td>   -2.945</td>\n",
       "</tr>\n",
       "<tr>\n",
       "  <th>C(ku_name)[T.江東]</th>          <td>   -4.5660</td> <td>    0.515</td> <td>   -8.862</td> <td> 0.000</td> <td>   -5.580</td> <td>   -3.552</td>\n",
       "</tr>\n",
       "<tr>\n",
       "  <th>C(ku_name)[T.港]</th>           <td>-1.996e-15</td> <td> 2.57e-16</td> <td>   -7.766</td> <td> 0.000</td> <td> -2.5e-15</td> <td>-1.49e-15</td>\n",
       "</tr>\n",
       "<tr>\n",
       "  <th>C(ku_name)[T.目黒]</th>          <td>   -3.7853</td> <td>    0.543</td> <td>   -6.977</td> <td> 0.000</td> <td>   -4.853</td> <td>   -2.718</td>\n",
       "</tr>\n",
       "<tr>\n",
       "  <th>C(ku_name)[T.荒川]</th>          <td>   -4.5605</td> <td>    0.450</td> <td>  -10.137</td> <td> 0.000</td> <td>   -5.446</td> <td>   -3.675</td>\n",
       "</tr>\n",
       "<tr>\n",
       "  <th>rei_price</th>                 <td>    0.2851</td> <td>    0.025</td> <td>   11.563</td> <td> 0.000</td> <td>    0.237</td> <td>    0.334</td>\n",
       "</tr>\n",
       "<tr>\n",
       "  <th>shikikin</th>                  <td>    0.1068</td> <td>    0.019</td> <td>    5.625</td> <td> 0.000</td> <td>    0.069</td> <td>    0.144</td>\n",
       "</tr>\n",
       "<tr>\n",
       "  <th>maintenence_price</th>         <td>    0.0004</td> <td> 4.13e-05</td> <td>    9.301</td> <td> 0.000</td> <td>    0.000</td> <td>    0.000</td>\n",
       "</tr>\n",
       "<tr>\n",
       "  <th>sqr_m</th>                     <td>    0.0822</td> <td>    0.021</td> <td>    3.867</td> <td> 0.000</td> <td>    0.040</td> <td>    0.124</td>\n",
       "</tr>\n",
       "<tr>\n",
       "  <th>floor</th>                     <td>   -0.1587</td> <td>    0.056</td> <td>   -2.817</td> <td> 0.005</td> <td>   -0.270</td> <td>   -0.048</td>\n",
       "</tr>\n",
       "</table>\n",
       "<table class=\"simpletable\">\n",
       "<tr>\n",
       "  <th>Omnibus:</th>       <td>15.517</td> <th>  Durbin-Watson:     </th> <td>   1.908</td>\n",
       "</tr>\n",
       "<tr>\n",
       "  <th>Prob(Omnibus):</th> <td> 0.000</td> <th>  Jarque-Bera (JB):  </th> <td>  22.521</td>\n",
       "</tr>\n",
       "<tr>\n",
       "  <th>Skew:</th>          <td> 0.345</td> <th>  Prob(JB):          </th> <td>1.29e-05</td>\n",
       "</tr>\n",
       "<tr>\n",
       "  <th>Kurtosis:</th>      <td> 4.060</td> <th>  Cond. No.          </th> <td>2.41e+22</td>\n",
       "</tr>\n",
       "</table><br/><br/>Notes:<br/>[1] Standard Errors assume that the covariance matrix of the errors is correctly specified.<br/>[2] The smallest eigenvalue is 2.45e-35. This might indicate that there are<br/>strong multicollinearity problems or that the design matrix is singular."
      ],
      "text/plain": [
       "<class 'statsmodels.iolib.summary.Summary'>\n",
       "\"\"\"\n",
       "                            OLS Regression Results                            \n",
       "==============================================================================\n",
       "Dep. Variable:             rent_price   R-squared:                       0.698\n",
       "Model:                            OLS   Adj. R-squared:                  0.678\n",
       "Method:                 Least Squares   F-statistic:                     34.76\n",
       "Date:                Wed, 22 Mar 2023   Prob (F-statistic):           2.34e-69\n",
       "Time:                        11:42:00   Log-Likelihood:                -557.38\n",
       "No. Observations:                 338   AIC:                             1159.\n",
       "Df Residuals:                     316   BIC:                             1243.\n",
       "Df Model:                          21                                         \n",
       "Covariance Type:            nonrobust                                         \n",
       "=============================================================================================\n",
       "                                coef    std err          t      P>|t|      [0.025      0.975]\n",
       "---------------------------------------------------------------------------------------------\n",
       "Intercept                     6.6336      0.937      7.080      0.000       4.790       8.477\n",
       "C(apartment_type)[T.1K]       0.6519      0.486      1.341      0.181      -0.304       1.608\n",
       "C(apartment_type)[T.1LDK]     1.1606      0.309      3.751      0.000       0.552       1.769\n",
       "C(apartment_type)[T.2DK]     -0.7254      0.523     -1.388      0.166      -1.754       0.303\n",
       "C(apartment_type)[T.2K]      -0.0968      0.229     -0.424      0.672      -0.547       0.353\n",
       "C(apartment_type)[T.2SDK]     1.6544      0.841      1.967      0.050      -0.000       3.309\n",
       "C(apartment_type)[T.2SK]     -3.5141      0.646     -5.443      0.000      -4.784      -2.244\n",
       "C(ku_name)[T.中野]             -4.4327      0.491     -9.028      0.000      -5.399      -3.467\n",
       "C(ku_name)[T.台東]             -3.8169      0.471     -8.107      0.000      -4.743      -2.891\n",
       "C(ku_name)[T.品川]             -5.1243      0.559     -9.162      0.000      -6.225      -4.024\n",
       "C(ku_name)[T.墨田]             -4.0282      0.588     -6.851      0.000      -5.185      -2.871\n",
       "C(ku_name)[T.大田]          -2.448e-15   3.65e-16     -6.704      0.000   -3.17e-15   -1.73e-15\n",
       "C(ku_name)[T.文京]             -3.6606      0.727     -5.032      0.000      -5.092      -2.229\n",
       "C(ku_name)[T.新宿]             -2.1178      0.572     -3.701      0.000      -3.244      -0.992\n",
       "C(ku_name)[T.杉並]             -4.1091      0.592     -6.944      0.000      -5.273      -2.945\n",
       "C(ku_name)[T.江東]             -4.5660      0.515     -8.862      0.000      -5.580      -3.552\n",
       "C(ku_name)[T.港]           -1.996e-15   2.57e-16     -7.766      0.000    -2.5e-15   -1.49e-15\n",
       "C(ku_name)[T.目黒]             -3.7853      0.543     -6.977      0.000      -4.853      -2.718\n",
       "C(ku_name)[T.荒川]             -4.5605      0.450    -10.137      0.000      -5.446      -3.675\n",
       "rei_price                     0.2851      0.025     11.563      0.000       0.237       0.334\n",
       "shikikin                      0.1068      0.019      5.625      0.000       0.069       0.144\n",
       "maintenence_price             0.0004   4.13e-05      9.301      0.000       0.000       0.000\n",
       "sqr_m                         0.0822      0.021      3.867      0.000       0.040       0.124\n",
       "floor                        -0.1587      0.056     -2.817      0.005      -0.270      -0.048\n",
       "==============================================================================\n",
       "Omnibus:                       15.517   Durbin-Watson:                   1.908\n",
       "Prob(Omnibus):                  0.000   Jarque-Bera (JB):               22.521\n",
       "Skew:                           0.345   Prob(JB):                     1.29e-05\n",
       "Kurtosis:                       4.060   Cond. No.                     2.41e+22\n",
       "==============================================================================\n",
       "\n",
       "Notes:\n",
       "[1] Standard Errors assume that the covariance matrix of the errors is correctly specified.\n",
       "[2] The smallest eigenvalue is 2.45e-35. This might indicate that there are\n",
       "strong multicollinearity problems or that the design matrix is singular.\n",
       "\"\"\""
      ]
     },
     "execution_count": 28,
     "metadata": {},
     "output_type": "execute_result"
    }
   ],
   "source": [
    "# use statsmodels to get a summary of the model and see what variables we want to include\n",
    "sm_model = smf.ols('rent_price ~ rei_price + shikikin + maintenence_price + sqr_m + floor +C(apartment_type) + C(ku_name)', data = train).fit()\n",
    "sm_model.summary()"
   ]
  },
  {
   "cell_type": "code",
   "execution_count": 19,
   "metadata": {},
   "outputs": [
    {
     "ename": "ValueError",
     "evalue": "could not convert string to float: '新'",
     "output_type": "error",
     "traceback": [
      "\u001b[0;31m---------------------------------------------------------------------------\u001b[0m",
      "\u001b[0;31mValueError\u001b[0m                                Traceback (most recent call last)",
      "Cell \u001b[0;32mIn[19], line 1\u001b[0m\n\u001b[0;32m----> 1\u001b[0m model \u001b[39m=\u001b[39m LinearRegression()\u001b[39m.\u001b[39;49mfit(train[[\u001b[39m'\u001b[39;49m\u001b[39mrei_price\u001b[39;49m\u001b[39m'\u001b[39;49m, \u001b[39m'\u001b[39;49m\u001b[39mshikikin\u001b[39;49m\u001b[39m'\u001b[39;49m, \u001b[39m'\u001b[39;49m\u001b[39mmaintenence_price\u001b[39;49m\u001b[39m'\u001b[39;49m, \u001b[39m'\u001b[39;49m\u001b[39msqr_m\u001b[39;49m\u001b[39m'\u001b[39;49m, \u001b[39m'\u001b[39;49m\u001b[39myear_built\u001b[39;49m\u001b[39m'\u001b[39;49m]], train[\u001b[39m'\u001b[39;49m\u001b[39mrent_price\u001b[39;49m\u001b[39m'\u001b[39;49m])\n\u001b[1;32m      2\u001b[0m \u001b[39m# make model include other variables and play around with it a bit more\u001b[39;00m\n\u001b[1;32m      3\u001b[0m \n\u001b[1;32m      4\u001b[0m \u001b[39m# log model with MLflow\u001b[39;00m\n\u001b[1;32m      5\u001b[0m \u001b[39mwith\u001b[39;00m mlflow\u001b[39m.\u001b[39mstart_run():\n",
      "File \u001b[0;32m/usr/local/lib/python3.10/site-packages/sklearn/linear_model/_base.py:648\u001b[0m, in \u001b[0;36mLinearRegression.fit\u001b[0;34m(self, X, y, sample_weight)\u001b[0m\n\u001b[1;32m    644\u001b[0m n_jobs_ \u001b[39m=\u001b[39m \u001b[39mself\u001b[39m\u001b[39m.\u001b[39mn_jobs\n\u001b[1;32m    646\u001b[0m accept_sparse \u001b[39m=\u001b[39m \u001b[39mFalse\u001b[39;00m \u001b[39mif\u001b[39;00m \u001b[39mself\u001b[39m\u001b[39m.\u001b[39mpositive \u001b[39melse\u001b[39;00m [\u001b[39m\"\u001b[39m\u001b[39mcsr\u001b[39m\u001b[39m\"\u001b[39m, \u001b[39m\"\u001b[39m\u001b[39mcsc\u001b[39m\u001b[39m\"\u001b[39m, \u001b[39m\"\u001b[39m\u001b[39mcoo\u001b[39m\u001b[39m\"\u001b[39m]\n\u001b[0;32m--> 648\u001b[0m X, y \u001b[39m=\u001b[39m \u001b[39mself\u001b[39;49m\u001b[39m.\u001b[39;49m_validate_data(\n\u001b[1;32m    649\u001b[0m     X, y, accept_sparse\u001b[39m=\u001b[39;49maccept_sparse, y_numeric\u001b[39m=\u001b[39;49m\u001b[39mTrue\u001b[39;49;00m, multi_output\u001b[39m=\u001b[39;49m\u001b[39mTrue\u001b[39;49;00m\n\u001b[1;32m    650\u001b[0m )\n\u001b[1;32m    652\u001b[0m sample_weight \u001b[39m=\u001b[39m _check_sample_weight(\n\u001b[1;32m    653\u001b[0m     sample_weight, X, dtype\u001b[39m=\u001b[39mX\u001b[39m.\u001b[39mdtype, only_non_negative\u001b[39m=\u001b[39m\u001b[39mTrue\u001b[39;00m\n\u001b[1;32m    654\u001b[0m )\n\u001b[1;32m    656\u001b[0m X, y, X_offset, y_offset, X_scale \u001b[39m=\u001b[39m _preprocess_data(\n\u001b[1;32m    657\u001b[0m     X,\n\u001b[1;32m    658\u001b[0m     y,\n\u001b[0;32m   (...)\u001b[0m\n\u001b[1;32m    661\u001b[0m     sample_weight\u001b[39m=\u001b[39msample_weight,\n\u001b[1;32m    662\u001b[0m )\n",
      "File \u001b[0;32m/usr/local/lib/python3.10/site-packages/sklearn/base.py:584\u001b[0m, in \u001b[0;36mBaseEstimator._validate_data\u001b[0;34m(self, X, y, reset, validate_separately, **check_params)\u001b[0m\n\u001b[1;32m    582\u001b[0m         y \u001b[39m=\u001b[39m check_array(y, input_name\u001b[39m=\u001b[39m\u001b[39m\"\u001b[39m\u001b[39my\u001b[39m\u001b[39m\"\u001b[39m, \u001b[39m*\u001b[39m\u001b[39m*\u001b[39mcheck_y_params)\n\u001b[1;32m    583\u001b[0m     \u001b[39melse\u001b[39;00m:\n\u001b[0;32m--> 584\u001b[0m         X, y \u001b[39m=\u001b[39m check_X_y(X, y, \u001b[39m*\u001b[39;49m\u001b[39m*\u001b[39;49mcheck_params)\n\u001b[1;32m    585\u001b[0m     out \u001b[39m=\u001b[39m X, y\n\u001b[1;32m    587\u001b[0m \u001b[39mif\u001b[39;00m \u001b[39mnot\u001b[39;00m no_val_X \u001b[39mand\u001b[39;00m check_params\u001b[39m.\u001b[39mget(\u001b[39m\"\u001b[39m\u001b[39mensure_2d\u001b[39m\u001b[39m\"\u001b[39m, \u001b[39mTrue\u001b[39;00m):\n",
      "File \u001b[0;32m/usr/local/lib/python3.10/site-packages/sklearn/utils/validation.py:1106\u001b[0m, in \u001b[0;36mcheck_X_y\u001b[0;34m(X, y, accept_sparse, accept_large_sparse, dtype, order, copy, force_all_finite, ensure_2d, allow_nd, multi_output, ensure_min_samples, ensure_min_features, y_numeric, estimator)\u001b[0m\n\u001b[1;32m   1101\u001b[0m         estimator_name \u001b[39m=\u001b[39m _check_estimator_name(estimator)\n\u001b[1;32m   1102\u001b[0m     \u001b[39mraise\u001b[39;00m \u001b[39mValueError\u001b[39;00m(\n\u001b[1;32m   1103\u001b[0m         \u001b[39mf\u001b[39m\u001b[39m\"\u001b[39m\u001b[39m{\u001b[39;00mestimator_name\u001b[39m}\u001b[39;00m\u001b[39m requires y to be passed, but the target y is None\u001b[39m\u001b[39m\"\u001b[39m\n\u001b[1;32m   1104\u001b[0m     )\n\u001b[0;32m-> 1106\u001b[0m X \u001b[39m=\u001b[39m check_array(\n\u001b[1;32m   1107\u001b[0m     X,\n\u001b[1;32m   1108\u001b[0m     accept_sparse\u001b[39m=\u001b[39;49maccept_sparse,\n\u001b[1;32m   1109\u001b[0m     accept_large_sparse\u001b[39m=\u001b[39;49maccept_large_sparse,\n\u001b[1;32m   1110\u001b[0m     dtype\u001b[39m=\u001b[39;49mdtype,\n\u001b[1;32m   1111\u001b[0m     order\u001b[39m=\u001b[39;49morder,\n\u001b[1;32m   1112\u001b[0m     copy\u001b[39m=\u001b[39;49mcopy,\n\u001b[1;32m   1113\u001b[0m     force_all_finite\u001b[39m=\u001b[39;49mforce_all_finite,\n\u001b[1;32m   1114\u001b[0m     ensure_2d\u001b[39m=\u001b[39;49mensure_2d,\n\u001b[1;32m   1115\u001b[0m     allow_nd\u001b[39m=\u001b[39;49mallow_nd,\n\u001b[1;32m   1116\u001b[0m     ensure_min_samples\u001b[39m=\u001b[39;49mensure_min_samples,\n\u001b[1;32m   1117\u001b[0m     ensure_min_features\u001b[39m=\u001b[39;49mensure_min_features,\n\u001b[1;32m   1118\u001b[0m     estimator\u001b[39m=\u001b[39;49mestimator,\n\u001b[1;32m   1119\u001b[0m     input_name\u001b[39m=\u001b[39;49m\u001b[39m\"\u001b[39;49m\u001b[39mX\u001b[39;49m\u001b[39m\"\u001b[39;49m,\n\u001b[1;32m   1120\u001b[0m )\n\u001b[1;32m   1122\u001b[0m y \u001b[39m=\u001b[39m _check_y(y, multi_output\u001b[39m=\u001b[39mmulti_output, y_numeric\u001b[39m=\u001b[39my_numeric, estimator\u001b[39m=\u001b[39mestimator)\n\u001b[1;32m   1124\u001b[0m check_consistent_length(X, y)\n",
      "File \u001b[0;32m/usr/local/lib/python3.10/site-packages/sklearn/utils/validation.py:879\u001b[0m, in \u001b[0;36mcheck_array\u001b[0;34m(array, accept_sparse, accept_large_sparse, dtype, order, copy, force_all_finite, ensure_2d, allow_nd, ensure_min_samples, ensure_min_features, estimator, input_name)\u001b[0m\n\u001b[1;32m    877\u001b[0m         array \u001b[39m=\u001b[39m xp\u001b[39m.\u001b[39mastype(array, dtype, copy\u001b[39m=\u001b[39m\u001b[39mFalse\u001b[39;00m)\n\u001b[1;32m    878\u001b[0m     \u001b[39melse\u001b[39;00m:\n\u001b[0;32m--> 879\u001b[0m         array \u001b[39m=\u001b[39m _asarray_with_order(array, order\u001b[39m=\u001b[39;49morder, dtype\u001b[39m=\u001b[39;49mdtype, xp\u001b[39m=\u001b[39;49mxp)\n\u001b[1;32m    880\u001b[0m \u001b[39mexcept\u001b[39;00m ComplexWarning \u001b[39mas\u001b[39;00m complex_warning:\n\u001b[1;32m    881\u001b[0m     \u001b[39mraise\u001b[39;00m \u001b[39mValueError\u001b[39;00m(\n\u001b[1;32m    882\u001b[0m         \u001b[39m\"\u001b[39m\u001b[39mComplex data not supported\u001b[39m\u001b[39m\\n\u001b[39;00m\u001b[39m{}\u001b[39;00m\u001b[39m\\n\u001b[39;00m\u001b[39m\"\u001b[39m\u001b[39m.\u001b[39mformat(array)\n\u001b[1;32m    883\u001b[0m     ) \u001b[39mfrom\u001b[39;00m \u001b[39mcomplex_warning\u001b[39;00m\n",
      "File \u001b[0;32m/usr/local/lib/python3.10/site-packages/sklearn/utils/_array_api.py:185\u001b[0m, in \u001b[0;36m_asarray_with_order\u001b[0;34m(array, dtype, order, copy, xp)\u001b[0m\n\u001b[1;32m    182\u001b[0m     xp, _ \u001b[39m=\u001b[39m get_namespace(array)\n\u001b[1;32m    183\u001b[0m \u001b[39mif\u001b[39;00m xp\u001b[39m.\u001b[39m\u001b[39m__name__\u001b[39m \u001b[39min\u001b[39;00m {\u001b[39m\"\u001b[39m\u001b[39mnumpy\u001b[39m\u001b[39m\"\u001b[39m, \u001b[39m\"\u001b[39m\u001b[39mnumpy.array_api\u001b[39m\u001b[39m\"\u001b[39m}:\n\u001b[1;32m    184\u001b[0m     \u001b[39m# Use NumPy API to support order\u001b[39;00m\n\u001b[0;32m--> 185\u001b[0m     array \u001b[39m=\u001b[39m numpy\u001b[39m.\u001b[39;49masarray(array, order\u001b[39m=\u001b[39;49morder, dtype\u001b[39m=\u001b[39;49mdtype)\n\u001b[1;32m    186\u001b[0m     \u001b[39mreturn\u001b[39;00m xp\u001b[39m.\u001b[39masarray(array, copy\u001b[39m=\u001b[39mcopy)\n\u001b[1;32m    187\u001b[0m \u001b[39melse\u001b[39;00m:\n",
      "File \u001b[0;32m/usr/local/lib/python3.10/site-packages/pandas/core/generic.py:2070\u001b[0m, in \u001b[0;36mNDFrame.__array__\u001b[0;34m(self, dtype)\u001b[0m\n\u001b[1;32m   2069\u001b[0m \u001b[39mdef\u001b[39;00m \u001b[39m__array__\u001b[39m(\u001b[39mself\u001b[39m, dtype: npt\u001b[39m.\u001b[39mDTypeLike \u001b[39m|\u001b[39m \u001b[39mNone\u001b[39;00m \u001b[39m=\u001b[39m \u001b[39mNone\u001b[39;00m) \u001b[39m-\u001b[39m\u001b[39m>\u001b[39m np\u001b[39m.\u001b[39mndarray:\n\u001b[0;32m-> 2070\u001b[0m     \u001b[39mreturn\u001b[39;00m np\u001b[39m.\u001b[39;49masarray(\u001b[39mself\u001b[39;49m\u001b[39m.\u001b[39;49m_values, dtype\u001b[39m=\u001b[39;49mdtype)\n",
      "\u001b[0;31mValueError\u001b[0m: could not convert string to float: '新'"
     ]
    }
   ],
   "source": [
    "model = LinearRegression().fit(train[['rei_price', 'shikikin', 'maintenence_price', 'sqr_m']], train['rent_price'])\n",
    "# make model include other variables and play around with it a bit more\n",
    "\n",
    "# log model with MLflow\n",
    "with mlflow.start_run():\n",
    "    mlflow.sklearn.log_model(model, 'statsmodels-lr')\n",
    "    mlflow.log_metric('mse', mean_squared_error(test['rent_price'], model.predict(test[['rei_price', 'shikikin', 'maintenence_price', 'sqr_m']])))\n",
    "    mlflow.log_param('test_size', 0.2)\n",
    "    mlflow.log_param('random_state', 42)\n",
    "    mlflow.log_param('model', 'LinearRegression')\n",
    "    mlflow.log_param('features', ['rei_price', 'shikikin', 'maintenence_price', 'sqr_m'])\n",
    "    "
   ]
  },
  {
   "cell_type": "code",
   "execution_count": 30,
   "metadata": {},
   "outputs": [
    {
     "name": "stdout",
     "output_type": "stream",
     "text": [
      "2.6535900325961204\n",
      "model is good\n"
     ]
    }
   ],
   "source": [
    "# now see how it does on the test set\n",
    "pred = model.predict(test[['rei_price', 'shikikin', 'maintenence_price', 'sqr_m']])\n",
    "mse = mean_squared_error(test['rent_price'], pred)\n",
    "print(mse)\n",
    "if mse < 4:\n",
    "    print(\"model is good\")\n",
    "    # and save it \n",
    "    # save the model\n",
    "    path = os.path.join(os.getcwd(), \"passed-model\")\n",
    "    save(model, path = path, sample_data = test[['rei_price', 'shikikin', 'maintenence_price', 'sqr_m']])"
   ]
  },
  {
   "cell_type": "code",
   "execution_count": 31,
   "metadata": {},
   "outputs": [
    {
     "name": "stdout",
     "output_type": "stream",
     "text": [
      "💾 Saving builder to docker-builder.mlem\n"
     ]
    }
   ],
   "source": [
    "#!mlem declare builder docker docker-builder.mlem \\\n",
    "#    --image.name mlem-model \\\n",
    "#    --server fastapi"
   ]
  },
  {
   "cell_type": "code",
   "execution_count": 1,
   "metadata": {},
   "outputs": [],
   "source": [
    "#!mlem serve fastapi --model passed-model"
   ]
  },
  {
   "cell_type": "code",
   "execution_count": 18,
   "metadata": {},
   "outputs": [
    {
     "name": "stderr",
     "output_type": "stream",
     "text": [
      "/var/folders/11/0jl_y2gs2l572wb1djp1qrjm0000gn/T/ipykernel_8622/2241902657.py:7: UserWarning: \n",
      "\n",
      "`distplot` is a deprecated function and will be removed in seaborn v0.14.0.\n",
      "\n",
      "Please adapt your code to use either `displot` (a figure-level function with\n",
      "similar flexibility) or `histplot` (an axes-level function for histograms).\n",
      "\n",
      "For a guide to updating your code to use the new functions, please see\n",
      "https://gist.github.com/mwaskom/de44147ed2974457ad6372750bbe5751\n",
      "\n",
      "  sns.distplot(resid)\n"
     ]
    },
    {
     "data": {
      "text/plain": [
       "<Axes: xlabel='rent_price', ylabel='Density'>"
      ]
     },
     "execution_count": 18,
     "metadata": {},
     "output_type": "execute_result"
    },
    {
     "data": {
      "image/png": "[encoded data removed]",
      "text/plain": [
       "<Figure size 640x480 with 1 Axes>"
      ]
     },
     "metadata": {},
     "output_type": "display_data"
    }
   ],
   "source": [
    "# see if our assumptions are met \n",
    "# normality of residuals\n",
    "import matplotlib.pyplot as plt\n",
    "import seaborn as sns\n",
    "sns.set_style('darkgrid')\n",
    "resid = (test.rent_price - pred)\n",
    "sns.distplot(resid)"
   ]
  },
  {
   "cell_type": "code",
   "execution_count": 19,
   "metadata": {},
   "outputs": [],
   "source": [
    "# check for heteroskedasticity\n",
    "#import statsmodels.stats.api as sms\n",
    "#import numpy as np\n",
    "#test_result, p_value, _, two = sms.het_breuschpagan(model.resid, model.model.exog)\n",
    "#print('Lagrange multiplier p-value: {}'.format(p_value))\n",
    "#print('F-statistic p-value: {}'.format(two))\n",
    "# we can see that the p-value is less than 0.05, so we reject the null hypothesis that there is no heteroskedasticity\n"
   ]
  },
  {
   "cell_type": "code",
   "execution_count": null,
   "metadata": {},
   "outputs": [],
   "source": [
    "# now want to check for model drift \n",
    "import nannyml as nml \n",
    "\n",
    "# set target variable \n",
    "target = 'rent_price'\n",
    "# set features\n",
    "features = ['rei_price', 'shikikin', 'maintenence_price', 'sqr_m']\n",
    "\n",
    "# make baseline predictions \n",
    "reference = X_test.copy()\n",
    "\n",
    "# estimating model performance w/ nannyml \n",
    "dle = nml.DLE(\n",
    "    metrics = [\"mae\"],\n",
    "    y_true = \"rent_price\",\n",
    "    y_pred = \"y_pred\",\n",
    "    feature_column_names = features,\n",
    "    timestamp_column_name = \"timestamp\", # will need to add this\n",
    ")\n",
    "\n",
    "dle.fit(reference)\n",
    "estimated_performance = dle.estimate(analysis_df)\n",
    "# https://github.com/NannyML/examples/blob/main/webinars/230119%20-%20Analyzing%20your%20model's%20performance%20in%20production/Monitoring%20ML%20models%20in%20production%20from%20a%20notebook.ipynb"
   ]
  },
  {
   "cell_type": "code",
   "execution_count": null,
   "metadata": {},
   "outputs": [],
   "source": [
    "udc = nml.UnivariateDriftCalculator(\n",
    "    column_names=['y_pred'],\n",
    "    timestamp_column_name='lpep_pickup_datetime',\n",
    "    chunk_period='d',\n",
    ")\n",
    "\n",
    "udc.fit(reference)\n",
    "univariate_data_drift = udc.calculate(analysis_df)\n",
    "\n",
    "univariate_data_drift.plot(kind='distribution')"
   ]
  }
 ],
 "metadata": {
  "kernelspec": {
   "display_name": "Python 3",
   "language": "python",
   "name": "python3"
  },
  "language_info": {
   "codemirror_mode": {
    "name": "ipython",
    "version": 3
   },
   "file_extension": ".py",
   "mimetype": "text/x-python",
   "name": "python",
   "nbconvert_exporter": "python",
   "pygments_lexer": "ipython3",
   "version": "3.10.9"
  },
  "orig_nbformat": 4
 },
 "nbformat": 4,
 "nbformat_minor": 2
}
